{
 "cells": [
  {
   "cell_type": "code",
   "execution_count": 1,
   "metadata": {},
   "outputs": [],
   "source": [
    "import pandas as pd\n",
    "import numpy as np\n",
    "from sklearn.externals import joblib\n",
    "from utils.classifications_utils import *\n",
    "from utils.data_loading_utils import *\n",
    "from utils.data_visualization_utils import *\n",
    "from utils.metrics_utils import *\n",
    "from utils.grid_search_utils import *\n",
    "from sklearn.model_selection import train_test_split\n",
    "from sklearn.ensemble import ExtraTreesClassifier, RandomForestClassifier, AdaBoostClassifier\n",
    "from sklearn.preprocessing import MinMaxScaler\n",
    "import matplotlib.pyplot as plt\n",
    "import warnings\n",
    "warnings.filterwarnings(\"ignore\")\n",
    "%matplotlib inline"
   ]
  },
  {
   "cell_type": "code",
   "execution_count": 2,
   "metadata": {},
   "outputs": [],
   "source": [
    "no_wind_data = load_data(0, 5, 'project2', 'drone3')\n",
    "no_wind_data = separate_data_based_on_apparatus(no_wind_data)\n",
    "\n",
    "level_1_wind = load_data(1, 5, 'project2', 'drone3')\n",
    "level_1_wind = separate_data_based_on_apparatus(level_1_wind)\n",
    "\n",
    "level_2_wind = load_data(2, 5, 'project2', 'drone3')\n",
    "level_2_wind = separate_data_based_on_apparatus(level_2_wind)\n",
    "\n",
    "level_3_wind = load_data(3, 5, 'project2', 'drone3')\n",
    "level_3_wind = separate_data_based_on_apparatus(level_3_wind)"
   ]
  },
  {
   "cell_type": "code",
   "execution_count": 3,
   "metadata": {},
   "outputs": [],
   "source": [
    "acc_no_wind, gyro_no_wind, _, _ = no_wind_data.values()\n",
    "label_0 = [0 for x in range(acc_no_wind.shape[0])]\n",
    "\n",
    "acc_level_1_wind, gyro_level_1_wind, _, _ = level_1_wind.values()\n",
    "label_1 = [1 for x in range(acc_level_1_wind.shape[0])]\n",
    "\n",
    "acc_level_2_wind, gyro_level_2_wind, _, _ = level_2_wind.values()\n",
    "label_2 = [2 for x in range(acc_level_2_wind.shape[0])]\n",
    "\n",
    "acc_level_3_wind, gyro_level_3_wind, _, _ = level_3_wind.values()\n",
    "label_3 = [3 for x in range(acc_level_3_wind.shape[0])]"
   ]
  },
  {
   "cell_type": "markdown",
   "metadata": {},
   "source": [
    "# Split No Wind Data"
   ]
  },
  {
   "cell_type": "code",
   "execution_count": 4,
   "metadata": {},
   "outputs": [],
   "source": [
    "X_train_acc_0, X_test_acc_0, y_train_acc_0, y_test_acc_0 = \\\n",
    "train_test_split(acc_no_wind, label_0, test_size=0.2, shuffle=False)\n",
    "\n",
    "X_train_gyro_0, X_test_gyro_0, y_train_gyro_0, y_test_gyro_0 = \\\n",
    "train_test_split(gyro_no_wind, label_0, test_size=0.2, shuffle=False)"
   ]
  },
  {
   "cell_type": "markdown",
   "metadata": {},
   "source": [
    "# Split Level 1 Wind"
   ]
  },
  {
   "cell_type": "code",
   "execution_count": 5,
   "metadata": {},
   "outputs": [],
   "source": [
    "X_train_acc_1, X_test_acc_1, y_train_acc_1, y_test_acc_1 = \\\n",
    "train_test_split(acc_level_1_wind, label_1, test_size=0.2, shuffle=False)\n",
    "\n",
    "X_train_gyro_1, X_test_gyro_1, y_train_gyro_1, y_test_gyro_1 = \\\n",
    "train_test_split(gyro_level_1_wind, label_1, test_size=0.2, shuffle=False)"
   ]
  },
  {
   "cell_type": "markdown",
   "metadata": {},
   "source": [
    "# Split Level 2 Wind"
   ]
  },
  {
   "cell_type": "code",
   "execution_count": 6,
   "metadata": {},
   "outputs": [],
   "source": [
    "X_train_acc_2, X_test_acc_2, y_train_acc_2, y_test_acc_2 = \\\n",
    "train_test_split(acc_level_2_wind, label_2, test_size=0.2, shuffle=False)\n",
    "\n",
    "X_train_gyro_2, X_test_gyro_2, y_train_gyro_2, y_test_gyro_2 = \\\n",
    "train_test_split(gyro_level_2_wind, label_2, test_size=0.2, shuffle=False)"
   ]
  },
  {
   "cell_type": "markdown",
   "metadata": {},
   "source": [
    "# Split Level 3 Wind"
   ]
  },
  {
   "cell_type": "code",
   "execution_count": 7,
   "metadata": {},
   "outputs": [],
   "source": [
    "X_train_acc_3, X_test_acc_3, y_train_acc_3, y_test_acc_3 = \\\n",
    "train_test_split(acc_level_3_wind, label_3, test_size=0.2, shuffle=False)\n",
    "\n",
    "X_train_gyro_3, X_test_gyro_3, y_train_gyro_3, y_test_gyro_3 = \\\n",
    "train_test_split(gyro_level_3_wind, label_3, test_size=0.2, shuffle=False)"
   ]
  },
  {
   "cell_type": "markdown",
   "metadata": {},
   "source": [
    "# Stack data up"
   ]
  },
  {
   "cell_type": "markdown",
   "metadata": {},
   "source": [
    "# Gyro"
   ]
  },
  {
   "cell_type": "code",
   "execution_count": 8,
   "metadata": {},
   "outputs": [],
   "source": [
    "X_train_gyro = X_train_gyro_0.append(X_train_gyro_1)\n",
    "X_train_gyro = X_train_gyro.append(X_train_gyro_2)\n",
    "X_train_gyro = X_train_gyro.append(X_train_gyro_3)\n",
    "\n",
    "y_train_gyro = np.hstack((y_train_gyro_0, y_train_gyro_1, y_train_gyro_2, y_train_gyro_3))"
   ]
  },
  {
   "cell_type": "code",
   "execution_count": 9,
   "metadata": {},
   "outputs": [],
   "source": [
    "X_test_gyro = X_test_gyro_0.append(X_test_gyro_1)\n",
    "X_test_gyro = X_test_gyro.append(X_test_gyro_2)\n",
    "X_test_gyro = X_test_gyro.append(X_test_gyro_3)\n",
    "\n",
    "y_test_gyro = np.hstack((y_test_gyro_0, y_test_gyro_1, y_test_gyro_2, y_test_gyro_3))"
   ]
  },
  {
   "cell_type": "markdown",
   "metadata": {},
   "source": [
    "# Accelerometer"
   ]
  },
  {
   "cell_type": "code",
   "execution_count": 10,
   "metadata": {},
   "outputs": [],
   "source": [
    "X_train_acc = X_train_acc_0.append(X_train_acc_1)\n",
    "X_train_acc = X_train_acc.append(X_train_acc_2)\n",
    "X_train_acc = X_train_acc.append(X_train_acc_3)\n",
    "\n",
    "y_train_acc = np.hstack((y_train_acc_0, y_train_acc_1, y_train_acc_2, y_train_acc_3))"
   ]
  },
  {
   "cell_type": "code",
   "execution_count": 11,
   "metadata": {},
   "outputs": [],
   "source": [
    "X_test_acc = X_test_acc_0.append(X_test_acc_1)\n",
    "X_test_acc = X_test_acc.append(X_test_acc_2)\n",
    "X_test_acc = X_test_acc.append(X_test_acc_3)\n",
    "\n",
    "y_test_acc = np.hstack((y_test_acc_0, y_test_acc_1, y_test_acc_2, y_test_acc_3))"
   ]
  },
  {
   "cell_type": "markdown",
   "metadata": {},
   "source": [
    "# Transform and generate features"
   ]
  },
  {
   "cell_type": "code",
   "execution_count": 12,
   "metadata": {},
   "outputs": [],
   "source": [
    "from transformers.featureGenerator import FeatureGenerator"
   ]
  },
  {
   "cell_type": "markdown",
   "metadata": {},
   "source": [
    "# Gyro"
   ]
  },
  {
   "cell_type": "code",
   "execution_count": 13,
   "metadata": {},
   "outputs": [
    {
     "data": {
      "text/plain": [
       "FeatureGenerator(k=0, reduce_noise=False, sensor='gyro', sliding_window=1)"
      ]
     },
     "execution_count": 13,
     "metadata": {},
     "output_type": "execute_result"
    }
   ],
   "source": [
    "feature_generator_gyro = FeatureGenerator(1, 'gyro')\n",
    "feature_generator_gyro.fit(X_train_gyro, 4)"
   ]
  },
  {
   "cell_type": "code",
   "execution_count": 14,
   "metadata": {},
   "outputs": [],
   "source": [
    "X_train_gyro = feature_generator_gyro.transform(X_train_gyro)"
   ]
  },
  {
   "cell_type": "code",
   "execution_count": 15,
   "metadata": {},
   "outputs": [],
   "source": [
    "y_train_gyro = adjust_label_amount(y_train_gyro, 4)"
   ]
  },
  {
   "cell_type": "code",
   "execution_count": 16,
   "metadata": {},
   "outputs": [
    {
     "data": {
      "text/plain": [
       "FeatureGenerator(k=0, reduce_noise=False, sensor='gyro', sliding_window=1)"
      ]
     },
     "execution_count": 16,
     "metadata": {},
     "output_type": "execute_result"
    }
   ],
   "source": [
    "feature_generator_gyro_test = FeatureGenerator(1, 'gyro')\n",
    "feature_generator_gyro_test.fit(X_test_gyro, 4)"
   ]
  },
  {
   "cell_type": "code",
   "execution_count": 17,
   "metadata": {
    "scrolled": true
   },
   "outputs": [],
   "source": [
    "X_test_gyro = feature_generator_gyro_test.transform(X_test_gyro)\n",
    "y_test_gyro = adjust_label_amount(y_test_gyro, 4)"
   ]
  },
  {
   "cell_type": "markdown",
   "metadata": {},
   "source": [
    "# Acc"
   ]
  },
  {
   "cell_type": "code",
   "execution_count": 18,
   "metadata": {},
   "outputs": [
    {
     "data": {
      "text/plain": [
       "FeatureGenerator(k=0, reduce_noise=False, sensor='acc', sliding_window=1)"
      ]
     },
     "execution_count": 18,
     "metadata": {},
     "output_type": "execute_result"
    }
   ],
   "source": [
    "feature_generator_acc = FeatureGenerator(1, 'acc')\n",
    "feature_generator_acc.fit(X_train_acc, 4)"
   ]
  },
  {
   "cell_type": "code",
   "execution_count": 19,
   "metadata": {},
   "outputs": [],
   "source": [
    "X_train_acc = feature_generator_acc.transform(X_train_acc)\n",
    "y_train_acc = adjust_label_amount(y_train_acc, 4)"
   ]
  },
  {
   "cell_type": "code",
   "execution_count": 20,
   "metadata": {
    "scrolled": true
   },
   "outputs": [
    {
     "data": {
      "text/plain": [
       "FeatureGenerator(k=0, reduce_noise=False, sensor='acc', sliding_window=1)"
      ]
     },
     "execution_count": 20,
     "metadata": {},
     "output_type": "execute_result"
    }
   ],
   "source": [
    "feature_generator_acc_test = FeatureGenerator(1, 'acc')\n",
    "feature_generator_acc_test.fit(X_test_acc, 4)"
   ]
  },
  {
   "cell_type": "code",
   "execution_count": 21,
   "metadata": {},
   "outputs": [],
   "source": [
    "X_test_acc = feature_generator_acc_test.transform(X_test_acc)\n",
    "y_test_acc = adjust_label_amount(y_test_acc, 4)"
   ]
  },
  {
   "cell_type": "markdown",
   "metadata": {},
   "source": [
    "# Train a random forest classifier and evaluate "
   ]
  },
  {
   "cell_type": "code",
   "execution_count": 22,
   "metadata": {},
   "outputs": [],
   "source": [
    "from sklearn.ensemble import GradientBoostingClassifier"
   ]
  },
  {
   "cell_type": "markdown",
   "metadata": {},
   "source": [
    "# Gyro"
   ]
  },
  {
   "cell_type": "code",
   "execution_count": 23,
   "metadata": {
    "scrolled": true
   },
   "outputs": [
    {
     "data": {
      "text/plain": [
       "GradientBoostingClassifier(criterion='friedman_mse', init=None,\n",
       "              learning_rate=0.1, loss='deviance', max_depth=3,\n",
       "              max_features=None, max_leaf_nodes=None,\n",
       "              min_impurity_decrease=0.0, min_impurity_split=None,\n",
       "              min_samples_leaf=1, min_samples_split=2,\n",
       "              min_weight_fraction_leaf=0.0, n_estimators=150,\n",
       "              n_iter_no_change=None, presort='auto', random_state=None,\n",
       "              subsample=1.0, tol=0.0001, validation_fraction=0.1,\n",
       "              verbose=0, warm_start=False)"
      ]
     },
     "execution_count": 23,
     "metadata": {},
     "output_type": "execute_result"
    }
   ],
   "source": [
    "clf_gyro = GradientBoostingClassifier()\n",
    "clf_gyro.fit(X_train_gyro, y_train_gyro)"
   ]
  },
  {
   "cell_type": "code",
   "execution_count": 24,
   "metadata": {},
   "outputs": [],
   "source": [
    "y_pred_gyro = clf_gyro.predict(X_test_gyro)"
   ]
  },
  {
   "cell_type": "markdown",
   "metadata": {},
   "source": [
    "# Confusion Matrix"
   ]
  },
  {
   "cell_type": "code",
   "execution_count": 25,
   "metadata": {},
   "outputs": [
    {
     "data": {
      "text/html": [
       "<div>\n",
       "<style scoped>\n",
       "    .dataframe tbody tr th:only-of-type {\n",
       "        vertical-align: middle;\n",
       "    }\n",
       "\n",
       "    .dataframe tbody tr th {\n",
       "        vertical-align: top;\n",
       "    }\n",
       "\n",
       "    .dataframe thead th {\n",
       "        text-align: right;\n",
       "    }\n",
       "</style>\n",
       "<table border=\"1\" class=\"dataframe\">\n",
       "  <thead>\n",
       "    <tr style=\"text-align: right;\">\n",
       "      <th></th>\n",
       "      <th>actual_0</th>\n",
       "      <th>actual_1</th>\n",
       "      <th>actual_2</th>\n",
       "      <th>actual_3</th>\n",
       "    </tr>\n",
       "  </thead>\n",
       "  <tbody>\n",
       "    <tr>\n",
       "      <th>predicted_0</th>\n",
       "      <td>5901</td>\n",
       "      <td>0</td>\n",
       "      <td>0</td>\n",
       "      <td>0</td>\n",
       "    </tr>\n",
       "    <tr>\n",
       "      <th>predicted_1</th>\n",
       "      <td>49</td>\n",
       "      <td>5394</td>\n",
       "      <td>458</td>\n",
       "      <td>0</td>\n",
       "    </tr>\n",
       "    <tr>\n",
       "      <th>predicted_2</th>\n",
       "      <td>0</td>\n",
       "      <td>436</td>\n",
       "      <td>4789</td>\n",
       "      <td>676</td>\n",
       "    </tr>\n",
       "    <tr>\n",
       "      <th>predicted_3</th>\n",
       "      <td>0</td>\n",
       "      <td>0</td>\n",
       "      <td>327</td>\n",
       "      <td>5574</td>\n",
       "    </tr>\n",
       "  </tbody>\n",
       "</table>\n",
       "</div>"
      ],
      "text/plain": [
       "             actual_0  actual_1  actual_2  actual_3\n",
       "predicted_0      5901         0         0         0\n",
       "predicted_1        49      5394       458         0\n",
       "predicted_2         0       436      4789       676\n",
       "predicted_3         0         0       327      5574"
      ]
     },
     "execution_count": 25,
     "metadata": {},
     "output_type": "execute_result"
    }
   ],
   "source": [
    "get_confusion_matrix(y_test_gyro, y_pred_gyro)"
   ]
  },
  {
   "cell_type": "markdown",
   "metadata": {},
   "source": [
    "# Accuracy"
   ]
  },
  {
   "cell_type": "code",
   "execution_count": 26,
   "metadata": {},
   "outputs": [
    {
     "data": {
      "text/plain": [
       "0.9175563463819691"
      ]
     },
     "execution_count": 26,
     "metadata": {},
     "output_type": "execute_result"
    }
   ],
   "source": [
    "clf_gyro.score(X_test_gyro, y_test_gyro)"
   ]
  },
  {
   "cell_type": "markdown",
   "metadata": {},
   "source": [
    "# Acc"
   ]
  },
  {
   "cell_type": "code",
   "execution_count": 27,
   "metadata": {},
   "outputs": [
    {
     "data": {
      "text/plain": [
       "GradientBoostingClassifier(criterion='friedman_mse', init=None,\n",
       "              learning_rate=0.1, loss='deviance', max_depth=3,\n",
       "              max_features=None, max_leaf_nodes=None,\n",
       "              min_impurity_decrease=0.0, min_impurity_split=None,\n",
       "              min_samples_leaf=1, min_samples_split=2,\n",
       "              min_weight_fraction_leaf=0.0, n_estimators=150,\n",
       "              n_iter_no_change=None, presort='auto', random_state=None,\n",
       "              subsample=1.0, tol=0.0001, validation_fraction=0.1,\n",
       "              verbose=0, warm_start=False)"
      ]
     },
     "execution_count": 27,
     "metadata": {},
     "output_type": "execute_result"
    }
   ],
   "source": [
    "clf_acc = GradientBoostingClassifier()\n",
    "clf_acc.fit(X_train_acc, y_train_acc)"
   ]
  },
  {
   "cell_type": "code",
   "execution_count": 28,
   "metadata": {},
   "outputs": [],
   "source": [
    "y_pred_acc = clf_acc.predict(X_test_acc)"
   ]
  },
  {
   "cell_type": "markdown",
   "metadata": {},
   "source": [
    "# Confusion Matrix"
   ]
  },
  {
   "cell_type": "code",
   "execution_count": 29,
   "metadata": {},
   "outputs": [
    {
     "data": {
      "text/html": [
       "<div>\n",
       "<style scoped>\n",
       "    .dataframe tbody tr th:only-of-type {\n",
       "        vertical-align: middle;\n",
       "    }\n",
       "\n",
       "    .dataframe tbody tr th {\n",
       "        vertical-align: top;\n",
       "    }\n",
       "\n",
       "    .dataframe thead th {\n",
       "        text-align: right;\n",
       "    }\n",
       "</style>\n",
       "<table border=\"1\" class=\"dataframe\">\n",
       "  <thead>\n",
       "    <tr style=\"text-align: right;\">\n",
       "      <th></th>\n",
       "      <th>actual_0</th>\n",
       "      <th>actual_1</th>\n",
       "      <th>actual_2</th>\n",
       "      <th>actual_3</th>\n",
       "    </tr>\n",
       "  </thead>\n",
       "  <tbody>\n",
       "    <tr>\n",
       "      <th>predicted_0</th>\n",
       "      <td>4690</td>\n",
       "      <td>1211</td>\n",
       "      <td>0</td>\n",
       "      <td>0</td>\n",
       "    </tr>\n",
       "    <tr>\n",
       "      <th>predicted_1</th>\n",
       "      <td>193</td>\n",
       "      <td>3347</td>\n",
       "      <td>2343</td>\n",
       "      <td>18</td>\n",
       "    </tr>\n",
       "    <tr>\n",
       "      <th>predicted_2</th>\n",
       "      <td>294</td>\n",
       "      <td>1145</td>\n",
       "      <td>3401</td>\n",
       "      <td>1061</td>\n",
       "    </tr>\n",
       "    <tr>\n",
       "      <th>predicted_3</th>\n",
       "      <td>42</td>\n",
       "      <td>96</td>\n",
       "      <td>1231</td>\n",
       "      <td>4532</td>\n",
       "    </tr>\n",
       "  </tbody>\n",
       "</table>\n",
       "</div>"
      ],
      "text/plain": [
       "             actual_0  actual_1  actual_2  actual_3\n",
       "predicted_0      4690      1211         0         0\n",
       "predicted_1       193      3347      2343        18\n",
       "predicted_2       294      1145      3401      1061\n",
       "predicted_3        42        96      1231      4532"
      ]
     },
     "execution_count": 29,
     "metadata": {},
     "output_type": "execute_result"
    }
   ],
   "source": [
    "get_confusion_matrix(y_test_acc, y_pred_acc)"
   ]
  },
  {
   "cell_type": "code",
   "execution_count": 30,
   "metadata": {},
   "outputs": [
    {
     "data": {
      "text/plain": [
       "0.6765802406371801"
      ]
     },
     "execution_count": 30,
     "metadata": {},
     "output_type": "execute_result"
    }
   ],
   "source": [
    "clf_acc.score(X_test_acc, y_test_acc)"
   ]
  }
 ],
 "metadata": {
  "kernelspec": {
   "display_name": "Python 3",
   "language": "python",
   "name": "python3"
  },
  "language_info": {
   "codemirror_mode": {
    "name": "ipython",
    "version": 3
   },
   "file_extension": ".py",
   "mimetype": "text/x-python",
   "name": "python",
   "nbconvert_exporter": "python",
   "pygments_lexer": "ipython3",
   "version": "3.6.7"
  }
 },
 "nbformat": 4,
 "nbformat_minor": 2
}
