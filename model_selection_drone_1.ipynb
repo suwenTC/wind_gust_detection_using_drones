{
 "cells": [
  {
   "cell_type": "markdown",
   "metadata": {},
   "source": [
    "# Drone 1: Hyper-parameters Tuning"
   ]
  },
  {
   "cell_type": "markdown",
   "metadata": {},
   "source": [
    "## Introduction: Approach to Tune Classifiers "
   ]
  },
  {
   "cell_type": "markdown",
   "metadata": {},
   "source": [
    "Tuning a classifier is a very time-consuming process, even with the help of random search algorithm. Thus, in this project, we use the following approach <font color=blue>[1]</font> to tune the hyper-parameters for both random forest and gradient boosting classifiers:\n",
    "\n",
    "- First, we use grid search to find out a certain number of etimators. The number of estimators selected should be giving a relatively good cross-validation score, as well as allowing our systems to work fairly fast. Please be noted, this value is not necessarily the one that will be used in the final model.\n",
    "\n",
    "\n",
    "- Next, we tune max_depth and num_sample_splits as a combination. Then, we move on to select the optimun max_features.\n",
    "\n",
    "\n",
    "- Finally, with max_depth, num_sample_splits and max_features being tuned, we re-focus on picking the number of estimators that gives us the best overall cross-validation score.\n",
    "\n",
    "For gradient boosting classifiers, parameters n_estimators and learning_rate should follow an inverse relationship. Therefore, we need to adjust learning_rate at the same time when n_estimators is changed."
   ]
  },
  {
   "cell_type": "markdown",
   "metadata": {},
   "source": [
    "## Load Libraries"
   ]
  },
  {
   "cell_type": "code",
   "execution_count": 1,
   "metadata": {},
   "outputs": [
    {
     "name": "stderr",
     "output_type": "stream",
     "text": [
      "/usr/lib/python3.6/importlib/_bootstrap.py:219: RuntimeWarning: numpy.dtype size changed, may indicate binary incompatibility. Expected 96, got 88\n",
      "  return f(*args, **kwds)\n",
      "/usr/lib/python3.6/importlib/_bootstrap.py:219: RuntimeWarning: numpy.dtype size changed, may indicate binary incompatibility. Expected 96, got 88\n",
      "  return f(*args, **kwds)\n",
      "/home/bruce/.local/lib/python3.6/site-packages/sklearn/ensemble/weight_boosting.py:29: DeprecationWarning: numpy.core.umath_tests is an internal NumPy module and should not be imported. It will be removed in a future NumPy release.\n",
      "  from numpy.core.umath_tests import inner1d\n"
     ]
    }
   ],
   "source": [
    "import pandas as pd\n",
    "import numpy as np\n",
    "import matplotlib.pyplot as plt\n",
    "\n",
    "from utils.grid_search_utils import *\n",
    "from utils.data_visualization_utils import *\n",
    "from utils.metrics_utils import get_confusion_matrix\n",
    "\n",
    "from utils.data_storage import DataContianer\n",
    "\n",
    "from sklearn.model_selection import cross_val_score\n",
    "from sklearn.ensemble import RandomForestClassifier, GradientBoostingClassifier\n",
    "\n",
    "import warnings\n",
    "warnings.filterwarnings(\"ignore\")"
   ]
  },
  {
   "cell_type": "code",
   "execution_count": 2,
   "metadata": {},
   "outputs": [],
   "source": [
    "# constant variables: name for each drone.\n",
    "drone1 = \"drone1\""
   ]
  },
  {
   "cell_type": "markdown",
   "metadata": {},
   "source": [
    "## Load Drone 1 Data"
   ]
  },
  {
   "cell_type": "code",
   "execution_count": 3,
   "metadata": {},
   "outputs": [],
   "source": [
    "# instantiate an object that contains training and test data for drone 1.\n",
    "drone1_gyro_data = DataContianer(drone1, 'gyro', 4)"
   ]
  },
  {
   "cell_type": "code",
   "execution_count": 4,
   "metadata": {},
   "outputs": [],
   "source": [
    "X_train_d1 = drone1_gyro_data.X_train_transformed\n",
    "y_train_d1 = drone1_gyro_data.y_train_transformed\n",
    "X_test_d1 = drone1_gyro_data.X_test_transformed\n",
    "y_test_d1 = drone1_gyro_data.y_test_transformed"
   ]
  },
  {
   "cell_type": "markdown",
   "metadata": {},
   "source": [
    "## (1) Random Forest"
   ]
  },
  {
   "cell_type": "markdown",
   "metadata": {},
   "source": [
    "#### Baseline Model"
   ]
  },
  {
   "cell_type": "markdown",
   "metadata": {},
   "source": [
    "Let's get a baseline random forest classifier without tuning."
   ]
  },
  {
   "cell_type": "code",
   "execution_count": 5,
   "metadata": {},
   "outputs": [],
   "source": [
    "rf_baseline_d1 = RandomForestClassifier(random_state = 13)"
   ]
  },
  {
   "cell_type": "code",
   "execution_count": 6,
   "metadata": {
    "scrolled": true
   },
   "outputs": [
    {
     "name": "stdout",
     "output_type": "stream",
     "text": [
      "Model Report: \n",
      "Mean cv score: 0.895 +/- std: 0.018\n"
     ]
    }
   ],
   "source": [
    "report_model_score(rf_baseline_d1, X_train_d1, y_train_d1)"
   ]
  },
  {
   "cell_type": "markdown",
   "metadata": {},
   "source": [
    "The mean cv score for our baseline model is <font color=blue> 0.895 </font>, with a standard deviation of <font color=blue> 0.018 </font>.\n",
    "\n",
    "Then, let's look at the confusion matrix."
   ]
  },
  {
   "cell_type": "code",
   "execution_count": 7,
   "metadata": {},
   "outputs": [],
   "source": [
    "_ = rf_baseline_d1.fit(X_train_d1, y_train_d1)"
   ]
  },
  {
   "cell_type": "markdown",
   "metadata": {},
   "source": [
    "### Visualize Confusion Matrix"
   ]
  },
  {
   "cell_type": "code",
   "execution_count": 8,
   "metadata": {},
   "outputs": [
    {
     "data": {
      "image/png": "[encoded data removed]",
      "text/plain": [
       "<Figure size 432x288 with 2 Axes>"
      ]
     },
     "metadata": {},
     "output_type": "display_data"
    }
   ],
   "source": [
    "y_pred_d1_rf = rf_baseline_d1.predict(X_test_d1)\n",
    "plot_confusion_matrix(get_confusion_matrix(y_pred_d1_rf, y_test_d1))"
   ]
  },
  {
   "cell_type": "markdown",
   "metadata": {},
   "source": [
    "### Test Accuracy"
   ]
  },
  {
   "cell_type": "code",
   "execution_count": 9,
   "metadata": {},
   "outputs": [
    {
     "name": "stdout",
     "output_type": "stream",
     "text": [
      "The test accuracy for baseline model (rf) is 0.924\n"
     ]
    }
   ],
   "source": [
    "print('The test accuracy for baseline model (rf) is {:.3f}'.\n",
    "      format(rf_baseline_d1.score(X_test_d1, y_test_d1)))"
   ]
  },
  {
   "cell_type": "markdown",
   "metadata": {},
   "source": [
    "## Hyper-parameters Tuning"
   ]
  },
  {
   "cell_type": "markdown",
   "metadata": {},
   "source": [
    "Before we start with setting with tuning the number of estimators, we picked the following default values for other hyper-parameters:\n",
    "- min_samples_split = 500\n",
    "- min_samples_leaf = 40\n",
    "- max_depth = 8\n",
    "- max_features = 'sqrt'\n",
    "All the hyper-parameters listed above will be tuned later if necessary. \n",
    "\n",
    "We also set the random state to 13."
   ]
  },
  {
   "cell_type": "markdown",
   "metadata": {},
   "source": [
    "### Step 1: Finding the best initial number of estimators"
   ]
  },
  {
   "cell_type": "code",
   "execution_count": 10,
   "metadata": {},
   "outputs": [],
   "source": [
    "rf_d1 = RandomForestClassifier(min_samples_split=500, min_samples_leaf=50,\n",
    "                               max_depth=8, max_features='sqrt', random_state=13)\n",
    "param_test1_rf_d2 = {\"n_estimators\": np.arange(20, 81, 20)}"
   ]
  },
  {
   "cell_type": "code",
   "execution_count": 11,
   "metadata": {},
   "outputs": [],
   "source": [
    "grid_search = GridSearchCV(rf_d1, param_grid=param_test1_rf_d2, cv=3, n_jobs=-1)\n",
    "_ = grid_search.fit(X_train_d1, y_train_d1)"
   ]
  },
  {
   "cell_type": "code",
   "execution_count": 12,
   "metadata": {
    "scrolled": true
   },
   "outputs": [
    {
     "name": "stdout",
     "output_type": "stream",
     "text": [
      "Model with rank: 1\n",
      "Mean validation score: 0.8962, Standard Deviation: 0.0206\n",
      "Parameters: {'n_estimators': 80}\n",
      "\n",
      "Model with rank: 2\n",
      "Mean validation score: 0.8962, Standard Deviation: 0.0206\n",
      "Parameters: {'n_estimators': 60}\n",
      "\n",
      "Model with rank: 3\n",
      "Mean validation score: 0.8957, Standard Deviation: 0.0203\n",
      "Parameters: {'n_estimators': 40}\n",
      "\n"
     ]
    }
   ],
   "source": [
    "report(grid_search.grid_scores_, 3)"
   ]
  },
  {
   "cell_type": "markdown",
   "metadata": {},
   "source": [
    "As we can see from the sumamry above, the best mean validation score is returned when n_estimators is 60 or 80. This also means that a higher number of estimators could give us a better result. Thus, further tuning is required for this parameter later."
   ]
  },
  {
   "cell_type": "markdown",
   "metadata": {},
   "source": [
    "### Step 2: Tuning max_depth, min_samples_split, min_samples_leaf and max_features"
   ]
  },
  {
   "cell_type": "code",
   "execution_count": 23,
   "metadata": {},
   "outputs": [],
   "source": [
    "rf_d1 = RandomForestClassifier(n_estimators=80, min_samples_leaf=50, max_features='sqrt', random_state=13)\n",
    "\n",
    "param_test2_rf_d2 = {\n",
    "    \"max_depth\": range(5, 16, 3),\n",
    "    \"min_samples_split\": range(200, 1000, 200)\n",
    "}"
   ]
  },
  {
   "cell_type": "code",
   "execution_count": 24,
   "metadata": {},
   "outputs": [],
   "source": [
    "grid_search = GridSearchCV(rf_d1, param_grid=param_test2_rf_d2, cv=3, n_jobs=-1)\n",
    "_ = grid_search.fit(X_train_d1, y_train_d1)"
   ]
  },
  {
   "cell_type": "code",
   "execution_count": 25,
   "metadata": {
    "scrolled": true
   },
   "outputs": [
    {
     "name": "stdout",
     "output_type": "stream",
     "text": [
      "Model with rank: 1\n",
      "Mean validation score: 0.9040, Standard Deviation: 0.0148\n",
      "Parameters: {'max_depth': 14, 'min_samples_split': 200}\n",
      "\n",
      "Model with rank: 2\n",
      "Mean validation score: 0.9023, Standard Deviation: 0.0174\n",
      "Parameters: {'max_depth': 11, 'min_samples_split': 200}\n",
      "\n",
      "Model with rank: 3\n",
      "Mean validation score: 0.9016, Standard Deviation: 0.0169\n",
      "Parameters: {'max_depth': 11, 'min_samples_split': 400}\n",
      "\n",
      "Model with rank: 4\n",
      "Mean validation score: 0.9015, Standard Deviation: 0.0167\n",
      "Parameters: {'max_depth': 14, 'min_samples_split': 400}\n",
      "\n",
      "Model with rank: 5\n",
      "Mean validation score: 0.8985, Standard Deviation: 0.0187\n",
      "Parameters: {'max_depth': 14, 'min_samples_split': 600}\n",
      "\n"
     ]
    }
   ],
   "source": [
    "report(grid_search.grid_scores_, 3)"
   ]
  },
  {
   "cell_type": "markdown",
   "metadata": {},
   "source": [
    "The different combinations of max_depth and min_samples_split, in terms of their values, show us some valueable information.\n",
    "\n",
    "First, the value of max_depth should be 14. \n",
    "\n",
    "Second, we should try different values for min_samples_split that are lower than 200.\n",
    "\n",
    "Thus, in the next round of grid search, we will set max_depth to 14 and test <b>min_samples_split</b> along with <b>min_samples_leaf</b>."
   ]
  },
  {
   "cell_type": "code",
   "execution_count": 26,
   "metadata": {},
   "outputs": [],
   "source": [
    "rf_d1 = RandomForestClassifier(n_estimators=80, max_features='sqrt', max_depth=14, random_state=13)\n",
    "\n",
    "param_test3_rf_d2 = {\n",
    "    \"min_samples_leaf\": range(30, 71, 10),\n",
    "    \"min_samples_split\": range(100, 200, 20)\n",
    "}"
   ]
  },
  {
   "cell_type": "code",
   "execution_count": 27,
   "metadata": {},
   "outputs": [],
   "source": [
    "grid_search = GridSearchCV(rf_d1, param_grid=param_test3_rf_d2, cv=3, n_jobs=-1)\n",
    "_ = grid_search.fit(X_train_d1, y_train_d1)"
   ]
  },
  {
   "cell_type": "code",
   "execution_count": 28,
   "metadata": {},
   "outputs": [
    {
     "name": "stdout",
     "output_type": "stream",
     "text": [
      "Model with rank: 1\n",
      "Mean validation score: 0.9046, Standard Deviation: 0.0144\n",
      "Parameters: {'min_samples_leaf': 50, 'min_samples_split': 140}\n",
      "\n",
      "Model with rank: 2\n",
      "Mean validation score: 0.9042, Standard Deviation: 0.0154\n",
      "Parameters: {'min_samples_leaf': 40, 'min_samples_split': 180}\n",
      "\n",
      "Model with rank: 3\n",
      "Mean validation score: 0.9042, Standard Deviation: 0.0152\n",
      "Parameters: {'min_samples_leaf': 60, 'min_samples_split': 160}\n",
      "\n",
      "Model with rank: 4\n",
      "Mean validation score: 0.9042, Standard Deviation: 0.0167\n",
      "Parameters: {'min_samples_leaf': 30, 'min_samples_split': 100}\n",
      "\n",
      "Model with rank: 5\n",
      "Mean validation score: 0.9041, Standard Deviation: 0.0158\n",
      "Parameters: {'min_samples_leaf': 60, 'min_samples_split': 140}\n",
      "\n"
     ]
    }
   ],
   "source": [
    "report(grid_search.grid_scores_, 3)"
   ]
  },
  {
   "cell_type": "markdown",
   "metadata": {},
   "source": [
    "After we tuned min_samples_leaf and min_samples_split as a combination, the cv score only got increased by 0.06%, which is very insignificant."
   ]
  },
  {
   "cell_type": "code",
   "execution_count": 32,
   "metadata": {},
   "outputs": [],
   "source": [
    "rf_d1 = RandomForestClassifier(n_estimators=80, min_samples_split=140, min_samples_leaf=50,\n",
    "                               max_depth=14, random_state=13)\n",
    "\n",
    "param_test4_rf_d2 = {\n",
    "    \"max_features\": range(6, 17, 2)\n",
    "}"
   ]
  },
  {
   "cell_type": "code",
   "execution_count": 33,
   "metadata": {},
   "outputs": [],
   "source": [
    "grid_search = GridSearchCV(rf_d1, param_grid=param_test4_rf_d2, cv=3, n_jobs=-1)\n",
    "_ = grid_search.fit(X_train_d1, y_train_d1)"
   ]
  },
  {
   "cell_type": "code",
   "execution_count": 34,
   "metadata": {
    "scrolled": false
   },
   "outputs": [
    {
     "name": "stdout",
     "output_type": "stream",
     "text": [
      "Model with rank: 1\n",
      "Mean validation score: 0.9047, Standard Deviation: 0.0157\n",
      "Parameters: {'max_features': 10}\n",
      "\n",
      "Model with rank: 2\n",
      "Mean validation score: 0.9046, Standard Deviation: 0.0144\n",
      "Parameters: {'max_features': 6}\n",
      "\n",
      "Model with rank: 3\n",
      "Mean validation score: 0.9037, Standard Deviation: 0.0148\n",
      "Parameters: {'max_features': 12}\n",
      "\n",
      "Model with rank: 4\n",
      "Mean validation score: 0.9029, Standard Deviation: 0.0163\n",
      "Parameters: {'max_features': 8}\n",
      "\n",
      "Model with rank: 5\n",
      "Mean validation score: 0.9020, Standard Deviation: 0.0153\n",
      "Parameters: {'max_features': 16}\n",
      "\n"
     ]
    }
   ],
   "source": [
    "report(grid_search.grid_scores_, 3)"
   ]
  },
  {
   "cell_type": "markdown",
   "metadata": {},
   "source": [
    "Setting max_features at 10 only increased mean cv score by 0.01%. "
   ]
  },
  {
   "cell_type": "code",
   "execution_count": 35,
   "metadata": {},
   "outputs": [],
   "source": [
    "rf_d1 = RandomForestClassifier(n_estimators=80, max_features=10, min_samples_split=140, min_samples_leaf=50,\n",
    "                               max_depth=14, random_state=13)\n",
    "\n",
    "param_test5_rf_d2 = {\n",
    "    \"n_estimators\": range(80, 200, 20)\n",
    "}"
   ]
  },
  {
   "cell_type": "code",
   "execution_count": 36,
   "metadata": {},
   "outputs": [],
   "source": [
    "grid_search = GridSearchCV(rf_d1, param_grid=param_test5_rf_d2, cv=3, n_jobs=-1)\n",
    "_ = grid_search.fit(X_train_d1, y_train_d1)"
   ]
  },
  {
   "cell_type": "code",
   "execution_count": 37,
   "metadata": {
    "scrolled": false
   },
   "outputs": [
    {
     "name": "stdout",
     "output_type": "stream",
     "text": [
      "Model with rank: 1\n",
      "Mean validation score: 0.9048, Standard Deviation: 0.0155\n",
      "Parameters: {'n_estimators': 120}\n",
      "\n",
      "Model with rank: 2\n",
      "Mean validation score: 0.9047, Standard Deviation: 0.0157\n",
      "Parameters: {'n_estimators': 80}\n",
      "\n",
      "Model with rank: 3\n",
      "Mean validation score: 0.9047, Standard Deviation: 0.0154\n",
      "Parameters: {'n_estimators': 100}\n",
      "\n",
      "Model with rank: 4\n",
      "Mean validation score: 0.9046, Standard Deviation: 0.0156\n",
      "Parameters: {'n_estimators': 160}\n",
      "\n",
      "Model with rank: 5\n",
      "Mean validation score: 0.9046, Standard Deviation: 0.0157\n",
      "Parameters: {'n_estimators': 140}\n",
      "\n"
     ]
    }
   ],
   "source": [
    "report(grid_search.grid_scores_, 3)"
   ]
  },
  {
   "cell_type": "markdown",
   "metadata": {},
   "source": [
    "If we increased the number of estimators from 80 to 120, the mean cv score was not increased significantly. According to occam's razor law, we should choose 80 instead of 120."
   ]
  },
  {
   "cell_type": "markdown",
   "metadata": {},
   "source": [
    "## Final Random Forest Model, Drone 1"
   ]
  },
  {
   "cell_type": "code",
   "execution_count": 40,
   "metadata": {},
   "outputs": [
    {
     "data": {
      "image/png": "[encoded data removed]",
      "text/plain": [
       "<Figure size 432x288 with 2 Axes>"
      ]
     },
     "metadata": {},
     "output_type": "display_data"
    }
   ],
   "source": [
    "rf_d1_final = rf_d1 = RandomForestClassifier(n_estimators=80, min_samples_split=140, min_samples_leaf=50,\n",
    "                               max_depth=14, max_features=10, random_state=13)\n",
    "\n",
    "y_pred_d1_rf = rf_d1_final.predict(X_test_d1)\n",
    "plot_confusion_matrix(get_confusion_matrix(y_pred_d1_rf, y_test_d1))"
   ]
  },
  {
   "cell_type": "code",
   "execution_count": 43,
   "metadata": {},
   "outputs": [
    {
     "name": "stdout",
     "output_type": "stream",
     "text": [
      "The test accuracy for baseline model (rf) is 0.9318\n"
     ]
    }
   ],
   "source": [
    "print('The test accuracy for final model (rf) is {:.4f}'.\n",
    "      format(rf_d1_final.score(X_test_d1, y_test_d1)))"
   ]
  },
  {
   "cell_type": "markdown",
   "metadata": {},
   "source": [
    "The overall accuracy is increased from 92% to 93.18%, which is very insignificant. Judging from the confusion matrix above, the improvement is almost negelectable. Following, we decided to go with occam's razor law and use the <b>default model</b> from sklearn as the final random forest model for classifing winde speed. "
   ]
  },
  {
   "cell_type": "markdown",
   "metadata": {},
   "source": [
    "## (1) Gradient Boosting"
   ]
  },
  {
   "cell_type": "markdown",
   "metadata": {},
   "source": [
    "### Baseline Model"
   ]
  },
  {
   "cell_type": "code",
   "execution_count": 13,
   "metadata": {},
   "outputs": [],
   "source": [
    "gb_baseline_d1 = GradientBoostingClassifier(random_state = 13)"
   ]
  },
  {
   "cell_type": "code",
   "execution_count": 14,
   "metadata": {},
   "outputs": [
    {
     "name": "stdout",
     "output_type": "stream",
     "text": [
      "Model Report: \n",
      "Mean cv score: 0.904 +/- std: 0.015\n"
     ]
    }
   ],
   "source": [
    "report_model_score(gb_baseline_d1, X_train_d1, y_train_d1)"
   ]
  },
  {
   "cell_type": "code",
   "execution_count": null,
   "metadata": {},
   "outputs": [],
   "source": [
    "_ = gb_baseline_d1.fit(X_train_d1, y_train_d1)"
   ]
  },
  {
   "cell_type": "code",
   "execution_count": null,
   "metadata": {},
   "outputs": [],
   "source": [
    "y_pred_d1_gb = gb_baseline_d1.predict(X_test_d1)\n",
    "plot_confusion_matrix(get_confusion_matrix(y_pred_d1_gb, y_test_d1))"
   ]
  },
  {
   "cell_type": "code",
   "execution_count": null,
   "metadata": {},
   "outputs": [],
   "source": [
    "print('The test accuracy for baseline model (gb) is {:.3f}'.\n",
    "      format(gb_baseline_d1.score(X_test_d1, y_test_d1)))"
   ]
  },
  {
   "cell_type": "markdown",
   "metadata": {},
   "source": [
    "Right off the bat, the default gradient boosting model gave us a slightly better model than random forest. From the confusion matrix of random forest, we can see that it has a hard time differentiating  class 2 and 3. Gradient boosting performed slight better on telling the difference between class 2 and 3."
   ]
  },
  {
   "cell_type": "markdown",
   "metadata": {},
   "source": [
    "## Hyper-parameters Tuning"
   ]
  },
  {
   "cell_type": "markdown",
   "metadata": {},
   "source": [
    "#### Step 1: Finding the best initial combination of n_estimators and learning_rate"
   ]
  },
  {
   "cell_type": "code",
   "execution_count": 10,
   "metadata": {},
   "outputs": [],
   "source": [
    "gb_d1 = GradientBoostingClassifier(learning_rate=0.1, min_samples_split=500, min_samples_leaf=50,\n",
    "                                    max_depth=8, max_features='sqrt', subsample=0.8, random_state=13)\n",
    "\n",
    "param_test1_gb_d1 = {'n_estimators':range(20,81,20)}"
   ]
  },
  {
   "cell_type": "code",
   "execution_count": 11,
   "metadata": {},
   "outputs": [],
   "source": [
    "grid_search = GridSearchCV(gb_d1, param_grid=param_test1_gb_d1, cv=3, n_jobs=-1)\n",
    "_ = grid_search.fit(X_train_d1, y_train_d1)"
   ]
  },
  {
   "cell_type": "code",
   "execution_count": 12,
   "metadata": {},
   "outputs": [
    {
     "name": "stdout",
     "output_type": "stream",
     "text": [
      "Model with rank: 1\n",
      "Mean validation score: 0.9069, Standard Deviation: 0.0151\n",
      "Parameters: {'n_estimators': 80}\n",
      "\n",
      "Model with rank: 2\n",
      "Mean validation score: 0.9060, Standard Deviation: 0.0149\n",
      "Parameters: {'n_estimators': 60}\n",
      "\n",
      "Model with rank: 3\n",
      "Mean validation score: 0.9057, Standard Deviation: 0.0151\n",
      "Parameters: {'n_estimators': 40}\n",
      "\n"
     ]
    }
   ],
   "source": [
    "report(grid_search.grid_scores_, 3)"
   ]
  },
  {
   "cell_type": "markdown",
   "metadata": {},
   "source": [
    "When there are 80 estimators with learning rate set to 0.1, the mean cv score got increased by 0.29%. Thus, we picked 80 for n_estimators and would come back to tuning n_estimators and learning_rate as a combination in the end."
   ]
  },
  {
   "cell_type": "code",
   "execution_count": 16,
   "metadata": {},
   "outputs": [],
   "source": [
    "gb_d1 = GradientBoostingClassifier(learning_rate=0.1, n_estimators=80, min_samples_leaf=50,\n",
    "                                   max_features='sqrt', subsample=0.8, random_state=13)\n",
    "\n",
    "param_test2_gb_d1 = {\n",
    "    \"max_depth\": range(5, 15, 3),\n",
    "    \"min_samples_split\": range(200, 601, 200)\n",
    "}"
   ]
  },
  {
   "cell_type": "code",
   "execution_count": 17,
   "metadata": {},
   "outputs": [],
   "source": [
    "grid_search = GridSearchCV(gb_d1, param_grid=param_test2_gb_d1, cv=3, n_jobs=-1)\n",
    "_ = grid_search.fit(X_train_d1, y_train_d1)"
   ]
  },
  {
   "cell_type": "code",
   "execution_count": 18,
   "metadata": {
    "scrolled": true
   },
   "outputs": [
    {
     "name": "stdout",
     "output_type": "stream",
     "text": [
      "Model with rank: 1\n",
      "Mean validation score: 0.9100, Standard Deviation: 0.0137\n",
      "Parameters: {'max_depth': 11, 'min_samples_split': 200}\n",
      "\n",
      "Model with rank: 2\n",
      "Mean validation score: 0.9083, Standard Deviation: 0.0148\n",
      "Parameters: {'max_depth': 14, 'min_samples_split': 800}\n",
      "\n",
      "Model with rank: 3\n",
      "Mean validation score: 0.9083, Standard Deviation: 0.0152\n",
      "Parameters: {'max_depth': 8, 'min_samples_split': 600}\n",
      "\n"
     ]
    }
   ],
   "source": [
    "report(grid_search.grid_scores_, 3)"
   ]
  },
  {
   "cell_type": "markdown",
   "metadata": {},
   "source": [
    "Here, the combination that imcreased the mean cv is when max_depth is 11 and min_samples_split is 200. Another thing worth pointing out is that the two values are relatively small compared to the arraies of numbers in the parameter grid, which agrees with occam's razor law."
   ]
  },
  {
   "cell_type": "code",
   "execution_count": 19,
   "metadata": {},
   "outputs": [],
   "source": [
    "gb_d1 = GradientBoostingClassifier(learning_rate=0.1, n_estimators=80, max_depth=11,\n",
    "                                   min_samples_split = 200,\n",
    "                                   max_features='sqrt', subsample=0.8, random_state=13)\n",
    "\n",
    "param_test3_gb_d1 = {\n",
    "    \"min_samples_leaf\": range(30,71,10)\n",
    "}"
   ]
  },
  {
   "cell_type": "code",
   "execution_count": 20,
   "metadata": {},
   "outputs": [],
   "source": [
    "grid_search = GridSearchCV(gb_d1, param_grid=param_test3_gb_d1, cv=3, n_jobs=-1)\n",
    "_ = grid_search.fit(X_train_d1, y_train_d1)"
   ]
  },
  {
   "cell_type": "code",
   "execution_count": 21,
   "metadata": {
    "scrolled": true
   },
   "outputs": [
    {
     "name": "stdout",
     "output_type": "stream",
     "text": [
      "Model with rank: 1\n",
      "Mean validation score: 0.9100, Standard Deviation: 0.0137\n",
      "Parameters: {'min_samples_leaf': 50}\n",
      "\n",
      "Model with rank: 2\n",
      "Mean validation score: 0.9091, Standard Deviation: 0.0138\n",
      "Parameters: {'min_samples_leaf': 60}\n",
      "\n",
      "Model with rank: 3\n",
      "Mean validation score: 0.9088, Standard Deviation: 0.0149\n",
      "Parameters: {'min_samples_leaf': 30}\n",
      "\n"
     ]
    }
   ],
   "source": [
    "report(grid_search.grid_scores_, 3)"
   ]
  },
  {
   "cell_type": "markdown",
   "metadata": {},
   "source": [
    "The value of min_samples_leaf that give the best mean cv score is 50, which is also the default value."
   ]
  },
  {
   "cell_type": "code",
   "execution_count": 26,
   "metadata": {},
   "outputs": [],
   "source": [
    "gb_d1 = GradientBoostingClassifier(learning_rate=0.1, n_estimators=80, max_depth=11,\n",
    "                                   min_samples_split = 200,\n",
    "                                   min_samples_leaf=50, subsample=0.8, random_state=13)\n",
    "\n",
    "param_test4_gb_d1 = {\n",
    "    \"max_features\": range(6, 17, 2)\n",
    "}"
   ]
  },
  {
   "cell_type": "code",
   "execution_count": 27,
   "metadata": {},
   "outputs": [],
   "source": [
    "grid_search = GridSearchCV(gb_d1, param_grid=param_test4_gb_d1, cv=3, n_jobs=-1)\n",
    "_ = grid_search.fit(X_train_d1, y_train_d1)"
   ]
  },
  {
   "cell_type": "code",
   "execution_count": 28,
   "metadata": {
    "scrolled": true
   },
   "outputs": [
    {
     "name": "stdout",
     "output_type": "stream",
     "text": [
      "Model with rank: 1\n",
      "Mean validation score: 0.9100, Standard Deviation: 0.0137\n",
      "Parameters: {'max_features': 6}\n",
      "\n",
      "Model with rank: 2\n",
      "Mean validation score: 0.9081, Standard Deviation: 0.0153\n",
      "Parameters: {'max_features': 12}\n",
      "\n",
      "Model with rank: 3\n",
      "Mean validation score: 0.9070, Standard Deviation: 0.0145\n",
      "Parameters: {'max_features': 8}\n",
      "\n"
     ]
    }
   ],
   "source": [
    "report(grid_search.grid_scores_, 3)"
   ]
  },
  {
   "cell_type": "markdown",
   "metadata": {},
   "source": [
    "The default value of max_features in gradient boosting is the square root of the number of features, according to the documentation on sklearn. We also tested other values such as 30% to 40% of the the total number of features. The result above shows that we can use a lower value of max_features and also achieve 91% cv score."
   ]
  },
  {
   "cell_type": "code",
   "execution_count": 29,
   "metadata": {},
   "outputs": [],
   "source": [
    "gb_d1 = GradientBoostingClassifier(learning_rate=0.1, n_estimators=80, max_depth=11,\n",
    "                                   min_samples_split=200, max_features=6,\n",
    "                                   min_samples_leaf=50, random_state=13)\n",
    "\n",
    "param_test5_gb_d1 = {\n",
    "    \"subsample\": [0.6, 0.7, 0.8, 0.9]\n",
    "}"
   ]
  },
  {
   "cell_type": "code",
   "execution_count": 30,
   "metadata": {},
   "outputs": [],
   "source": [
    "grid_search = GridSearchCV(gb_d1, param_grid=param_test5_gb_d1, cv=3, n_jobs=-1)\n",
    "_ = grid_search.fit(X_train_d1, y_train_d1)"
   ]
  },
  {
   "cell_type": "code",
   "execution_count": 31,
   "metadata": {
    "scrolled": false
   },
   "outputs": [
    {
     "name": "stdout",
     "output_type": "stream",
     "text": [
      "Model with rank: 1\n",
      "Mean validation score: 0.9100, Standard Deviation: 0.0137\n",
      "Parameters: {'subsample': 0.8}\n",
      "\n",
      "Model with rank: 2\n",
      "Mean validation score: 0.9091, Standard Deviation: 0.0144\n",
      "Parameters: {'subsample': 0.6}\n",
      "\n",
      "Model with rank: 3\n",
      "Mean validation score: 0.9082, Standard Deviation: 0.0155\n",
      "Parameters: {'subsample': 0.7}\n",
      "\n"
     ]
    }
   ],
   "source": [
    "report(grid_search.grid_scores_, 3)"
   ]
  },
  {
   "cell_type": "markdown",
   "metadata": {},
   "source": [
    "Tuning subsample does not yield a better mean cv score. According to sklearn, 0.8 is the default number for 'subsample.' This means the default number is sufficient. "
   ]
  },
  {
   "cell_type": "code",
   "execution_count": 35,
   "metadata": {},
   "outputs": [],
   "source": [
    "gb_d1_final = GradientBoostingClassifier(learning_rate=0.05, n_estimators=160, max_depth=11,\n",
    "                                   min_samples_split=200, max_features=6,\n",
    "                                   min_samples_leaf=50, random_state=13, subsample= 0.8)"
   ]
  },
  {
   "cell_type": "code",
   "execution_count": 36,
   "metadata": {},
   "outputs": [
    {
     "name": "stdout",
     "output_type": "stream",
     "text": [
      "Model Report: \n",
      "Mean cv score: 0.908 +/- std: 0.014\n"
     ]
    }
   ],
   "source": [
    "report_model_score(gb_d1_final, X_train_d1, y_train_d1)"
   ]
  },
  {
   "cell_type": "markdown",
   "metadata": {},
   "source": [
    "We doubled the number of estimators and lower the learning rate by half. The new combination gave us a slightly decrease in accuracy. Thus, we will choos 80 for n_estimators and 1.0 for learning rate in our final model."
   ]
  },
  {
   "cell_type": "code",
   "execution_count": 37,
   "metadata": {},
   "outputs": [
    {
     "data": {
      "image/png": "[encoded data removed]",
      "text/plain": [
       "<Figure size 432x288 with 2 Axes>"
      ]
     },
     "metadata": {},
     "output_type": "display_data"
    }
   ],
   "source": [
    "gb_d1_final = grid_search\n",
    "y_pred_d1_gb = gb_d1_final.predict(X_test_d1)\n",
    "plot_confusion_matrix(get_confusion_matrix(y_pred_d1_gb, y_test_d1))"
   ]
  },
  {
   "cell_type": "code",
   "execution_count": 39,
   "metadata": {},
   "outputs": [
    {
     "name": "stdout",
     "output_type": "stream",
     "text": [
      "The test accuracy for final model (gb) is 0.9354\n"
     ]
    }
   ],
   "source": [
    "print('The test accuracy for final model (gb) is {:.4f}'.\n",
    "      format(gb_d1_final.score(X_test_d1, y_test_d1)))"
   ]
  },
  {
   "cell_type": "markdown",
   "metadata": {},
   "source": [
    "## Summary"
   ]
  },
  {
   "cell_type": "markdown",
   "metadata": {},
   "source": [
    "The final gradient boosting model did not provide a better accuracy than the default/baseline model on the test set. Moreover, the default model is simplier than the model we trained, which means the final model is a little too complex than what is necessary. \n",
    "\n",
    "Similiar to why we chose the final random forest model, we decided to go with the <b>default/baseline model</b>."
   ]
  },
  {
   "cell_type": "markdown",
   "metadata": {},
   "source": [
    "# Directional Data"
   ]
  },
  {
   "cell_type": "markdown",
   "metadata": {},
   "source": [
    "Next, we will be tuning a random forest classifier and a gradient boosting classifier for directional data. In this experiment, the drone underwent air turbulence came from different direction when hovering. The following explains how we classify the labels:\n",
    "- 0: facing against wind.\n",
    "- 1: facing away wind.\n",
    "- 2: wind is blowing at the right side of the drone.\n",
    "- 3: wind is blowing at the left side of the drone."
   ]
  },
  {
   "cell_type": "markdown",
   "metadata": {},
   "source": [
    "## Load Data"
   ]
  },
  {
   "cell_type": "code",
   "execution_count": 49,
   "metadata": {},
   "outputs": [],
   "source": [
    "# instantiate an object that contains training and test data for drone 1.\n",
    "drone1_gyro_directional = DataContianer('drone1', 'acc', 4, is_directional=True)"
   ]
  },
  {
   "cell_type": "code",
   "execution_count": 50,
   "metadata": {},
   "outputs": [],
   "source": [
    "X_train_directional_d1 = drone1_gyro_directional.X_train_transformed\n",
    "y_train_directional_d1 = drone1_gyro_directional.y_train_transformed\n",
    "X_test_directional_d1 = drone1_gyro_directional.X_test_transformed\n",
    "y_test_directional_d1 = drone1_gyro_directional.y_test_transformed"
   ]
  },
  {
   "cell_type": "markdown",
   "metadata": {},
   "source": [
    "## (1) Random Forest"
   ]
  },
  {
   "cell_type": "markdown",
   "metadata": {},
   "source": [
    "# Baseline Model"
   ]
  },
  {
   "cell_type": "code",
   "execution_count": 51,
   "metadata": {},
   "outputs": [],
   "source": [
    "rf_baseline_directional_d1 = RandomForestClassifier(random_state = 13)"
   ]
  },
  {
   "cell_type": "code",
   "execution_count": 52,
   "metadata": {},
   "outputs": [
    {
     "name": "stdout",
     "output_type": "stream",
     "text": [
      "Model Report: \n",
      "Mean cv score: 0.885 +/- std: 0.031\n"
     ]
    }
   ],
   "source": [
    "report_model_score(rf_baseline_directional_d1, X_train_directional_d1, y_train_directional_d1)"
   ]
  },
  {
   "cell_type": "code",
   "execution_count": 53,
   "metadata": {},
   "outputs": [],
   "source": [
    "_ = rf_baseline_directional_d1.fit(X_train_directional_d1, y_train_directional_d1)"
   ]
  },
  {
   "cell_type": "code",
   "execution_count": 54,
   "metadata": {},
   "outputs": [
    {
     "data": {
      "image/png": "[encoded data removed]",
      "text/plain": [
       "<Figure size 432x288 with 2 Axes>"
      ]
     },
     "metadata": {},
     "output_type": "display_data"
    }
   ],
   "source": [
    "y_pred_d1_rf_directional = rf_baseline_directional_d1.predict(X_test_directional_d1)\n",
    "plot_confusion_matrix(get_confusion_matrix(y_pred_d1_rf_directional, y_test_directional_d1))"
   ]
  },
  {
   "cell_type": "code",
   "execution_count": 55,
   "metadata": {},
   "outputs": [
    {
     "name": "stdout",
     "output_type": "stream",
     "text": [
      "The test accuracy for baseline model (rf, directional) is 0.967\n"
     ]
    }
   ],
   "source": [
    "print('The test accuracy for baseline model (rf, directional) is {:.3f}'.\n",
    "      format(rf_baseline_directional_d1.score(X_test_directional_d1, y_test_directional_d1)))"
   ]
  },
  {
   "cell_type": "markdown",
   "metadata": {},
   "source": [
    "## Hyper-parameters Tuning"
   ]
  },
  {
   "cell_type": "markdown",
   "metadata": {},
   "source": [
    "#### Step 1: Finding the best initial number of estimators"
   ]
  },
  {
   "cell_type": "code",
   "execution_count": 56,
   "metadata": {},
   "outputs": [],
   "source": [
    "rf_d1_directional = RandomForestClassifier(min_samples_split=500, min_samples_leaf=50,\n",
    "                               max_depth=8, max_features='sqrt', random_state=13)\n",
    "\n",
    "param_test1_rf_d1_directional = {\"n_estimators\": np.arange(20, 81, 20)}"
   ]
  },
  {
   "cell_type": "code",
   "execution_count": 57,
   "metadata": {},
   "outputs": [],
   "source": [
    "grid_search = GridSearchCV(rf_d1_directional, param_grid=param_test1_rf_d1_directional, cv=3, n_jobs=-1)\n",
    "_ = grid_search.fit(X_train_directional_d1, y_train_directional_d1)"
   ]
  },
  {
   "cell_type": "code",
   "execution_count": 58,
   "metadata": {
    "scrolled": true
   },
   "outputs": [
    {
     "name": "stdout",
     "output_type": "stream",
     "text": [
      "Model with rank: 1\n",
      "Mean validation score: 0.8525, Standard Deviation: 0.0569\n",
      "Parameters: {'n_estimators': 60}\n",
      "\n",
      "Model with rank: 2\n",
      "Mean validation score: 0.8480, Standard Deviation: 0.0580\n",
      "Parameters: {'n_estimators': 40}\n",
      "\n",
      "Model with rank: 3\n",
      "Mean validation score: 0.8416, Standard Deviation: 0.0641\n",
      "Parameters: {'n_estimators': 80}\n",
      "\n"
     ]
    }
   ],
   "source": [
    "report(grid_search.grid_scores_, 3)"
   ]
  },
  {
   "cell_type": "markdown",
   "metadata": {},
   "source": [
    "The default values that we picked scored worse than our baseline model. This means the model is under fitted, we can expect to see some values will decrease as the mean cv score goes up."
   ]
  },
  {
   "cell_type": "markdown",
   "metadata": {},
   "source": [
    "### Step 2: Tuning max_depth, min_samples_split, min_samples_leaf and max_features"
   ]
  },
  {
   "cell_type": "code",
   "execution_count": 61,
   "metadata": {},
   "outputs": [],
   "source": [
    "rf_d1_directional = RandomForestClassifier(n_estimators=60, min_samples_leaf=50, max_features='sqrt', random_state=13)\n",
    "\n",
    "param_test2_rf_d1_directional = {\n",
    "    \"max_depth\": range(5, 16, 3),\n",
    "    \"min_samples_split\": range(200, 1000, 200)\n",
    "}"
   ]
  },
  {
   "cell_type": "code",
   "execution_count": 62,
   "metadata": {},
   "outputs": [],
   "source": [
    "grid_search = GridSearchCV(rf_d1_directional, param_grid=param_test2_rf_d1_directional, cv=3, n_jobs=-1)\n",
    "_ = grid_search.fit(X_train_directional_d1, y_train_directional_d1)"
   ]
  },
  {
   "cell_type": "code",
   "execution_count": 63,
   "metadata": {},
   "outputs": [
    {
     "name": "stdout",
     "output_type": "stream",
     "text": [
      "Model with rank: 1\n",
      "Mean validation score: 0.8737, Standard Deviation: 0.0499\n",
      "Parameters: {'max_depth': 14, 'min_samples_split': 200}\n",
      "\n",
      "Model with rank: 2\n",
      "Mean validation score: 0.8721, Standard Deviation: 0.0519\n",
      "Parameters: {'max_depth': 11, 'min_samples_split': 200}\n",
      "\n",
      "Model with rank: 3\n",
      "Mean validation score: 0.8715, Standard Deviation: 0.0480\n",
      "Parameters: {'max_depth': 14, 'min_samples_split': 400}\n",
      "\n"
     ]
    }
   ],
   "source": [
    "report(grid_search.grid_scores_, 3)"
   ]
  },
  {
   "cell_type": "markdown",
   "metadata": {},
   "source": [
    "The decrease of the value of min_samples_split improved the mean accuracy, which confirmed our spectulation. However, the mean cv score (87%) is still lower than the one basline model provided (88%)."
   ]
  },
  {
   "cell_type": "code",
   "execution_count": 64,
   "metadata": {},
   "outputs": [],
   "source": [
    "rf_d1_directional = RandomForestClassifier(n_estimators=60, max_features='sqrt', \n",
    "                                           max_depth=14, min_samples_split=200, random_state=13)\n",
    "\n",
    "param_test3_rf_d1_directional = {\n",
    "    \"min_samples_leaf\": range(30, 71, 10),\n",
    "}"
   ]
  },
  {
   "cell_type": "code",
   "execution_count": 65,
   "metadata": {},
   "outputs": [],
   "source": [
    "grid_search = GridSearchCV(rf_d1_directional, param_grid=param_test3_rf_d1_directional, cv=3, n_jobs=-1)\n",
    "_ = grid_search.fit(X_train_directional_d1, y_train_directional_d1)"
   ]
  },
  {
   "cell_type": "code",
   "execution_count": 66,
   "metadata": {},
   "outputs": [
    {
     "name": "stdout",
     "output_type": "stream",
     "text": [
      "Model with rank: 1\n",
      "Mean validation score: 0.8783, Standard Deviation: 0.0462\n",
      "Parameters: {'min_samples_leaf': 60}\n",
      "\n",
      "Model with rank: 2\n",
      "Mean validation score: 0.8778, Standard Deviation: 0.0492\n",
      "Parameters: {'min_samples_leaf': 40}\n",
      "\n",
      "Model with rank: 3\n",
      "Mean validation score: 0.8762, Standard Deviation: 0.0451\n",
      "Parameters: {'min_samples_leaf': 70}\n",
      "\n"
     ]
    }
   ],
   "source": [
    "report(grid_search.grid_scores_, 3)"
   ]
  },
  {
   "cell_type": "code",
   "execution_count": 70,
   "metadata": {},
   "outputs": [],
   "source": [
    "rf_d1_directional = RandomForestClassifier(n_estimators=60, min_samples_split=200,\n",
    "                                           min_samples_leaf=60, max_depth=14, random_state=13)\n",
    "\n",
    "param_test4_rf_d1_directional = {\n",
    "    \"max_features\": range(6, 17, 2)\n",
    "}"
   ]
  },
  {
   "cell_type": "code",
   "execution_count": 71,
   "metadata": {},
   "outputs": [],
   "source": [
    "grid_search = GridSearchCV(rf_d1_directional, param_grid=param_test4_rf_d1_directional, cv=3, n_jobs=-1)\n",
    "_ = grid_search.fit(X_train_directional_d1, y_train_directional_d1)"
   ]
  },
  {
   "cell_type": "code",
   "execution_count": 72,
   "metadata": {
    "scrolled": true
   },
   "outputs": [
    {
     "name": "stdout",
     "output_type": "stream",
     "text": [
      "Model with rank: 1\n",
      "Mean validation score: 0.9141, Standard Deviation: 0.0264\n",
      "Parameters: {'max_features': 16}\n",
      "\n",
      "Model with rank: 2\n",
      "Mean validation score: 0.9096, Standard Deviation: 0.0324\n",
      "Parameters: {'max_features': 12}\n",
      "\n",
      "Model with rank: 3\n",
      "Mean validation score: 0.9096, Standard Deviation: 0.0289\n",
      "Parameters: {'max_features': 14}\n",
      "\n"
     ]
    }
   ],
   "source": [
    "report(grid_search.grid_scores_, 3)"
   ]
  },
  {
   "cell_type": "markdown",
   "metadata": {},
   "source": [
    "When max_features is set at 16, the mean cv got boosted to 91% from 87%. This is a hugh improvement and indicates that max_features has a bigger predictive influence."
   ]
  },
  {
   "cell_type": "code",
   "execution_count": 73,
   "metadata": {},
   "outputs": [],
   "source": [
    "rf_d1_directional = RandomForestClassifier(n_estimators=60, max_features=16, min_samples_split=200, \n",
    "                                           min_samples_leaf=60, max_depth=14, random_state=13)\n",
    "\n",
    "param_test5_rf_d1_directional = {\n",
    "    \"n_estimators\": range(80, 200, 20)\n",
    "}"
   ]
  },
  {
   "cell_type": "code",
   "execution_count": 74,
   "metadata": {},
   "outputs": [],
   "source": [
    "grid_search = GridSearchCV(rf_d1_directional, param_grid=param_test5_rf_d1_directional, cv=3, n_jobs=-1)\n",
    "_ = grid_search.fit(X_train_directional_d1, y_train_directional_d1)"
   ]
  },
  {
   "cell_type": "code",
   "execution_count": 75,
   "metadata": {},
   "outputs": [
    {
     "name": "stdout",
     "output_type": "stream",
     "text": [
      "Model with rank: 1\n",
      "Mean validation score: 0.9143, Standard Deviation: 0.0271\n",
      "Parameters: {'n_estimators': 80}\n",
      "\n",
      "Model with rank: 2\n",
      "Mean validation score: 0.9142, Standard Deviation: 0.0270\n",
      "Parameters: {'n_estimators': 120}\n",
      "\n",
      "Model with rank: 3\n",
      "Mean validation score: 0.9142, Standard Deviation: 0.0270\n",
      "Parameters: {'n_estimators': 140}\n",
      "\n"
     ]
    }
   ],
   "source": [
    "report(grid_search.grid_scores_, 3)"
   ]
  },
  {
   "cell_type": "markdown",
   "metadata": {},
   "source": [
    "Higher values of n_estimators do not yield better models. Therefore, we set 60 estimators for our final model."
   ]
  },
  {
   "cell_type": "markdown",
   "metadata": {},
   "source": [
    "## Final Random Forest Model, Drone 1"
   ]
  },
  {
   "cell_type": "code",
   "execution_count": 77,
   "metadata": {},
   "outputs": [
    {
     "data": {
      "text/plain": [
       "RandomForestClassifier(bootstrap=True, class_weight=None, criterion='gini',\n",
       "            max_depth=14, max_features=16, max_leaf_nodes=None,\n",
       "            min_impurity_decrease=0.0, min_impurity_split=None,\n",
       "            min_samples_leaf=60, min_samples_split=200,\n",
       "            min_weight_fraction_leaf=0.0, n_estimators=80, n_jobs=1,\n",
       "            oob_score=False, random_state=13, verbose=0, warm_start=False)"
      ]
     },
     "execution_count": 77,
     "metadata": {},
     "output_type": "execute_result"
    }
   ],
   "source": [
    "rf_d1_directional_final = RandomForestClassifier(n_estimators=60, max_features=16, min_samples_split=200, \n",
    "                                           min_samples_leaf=60, max_depth=14, random_state=13)\n",
    "\n",
    "_ = rf_d1_directional_final.fit(X_train_directional_d1, y_train_directional_d1)"
   ]
  },
  {
   "cell_type": "code",
   "execution_count": 78,
   "metadata": {},
   "outputs": [
    {
     "data": {
      "image/png": "[encoded data removed]",
      "text/plain": [
       "<Figure size 432x288 with 2 Axes>"
      ]
     },
     "metadata": {},
     "output_type": "display_data"
    }
   ],
   "source": [
    "y_pred_d1_rf_directional = rf_d1_directional_final.predict(X_test_directional_d1)\n",
    "plot_confusion_matrix(get_confusion_matrix(y_pred_d1_rf_directional, y_test_directional_d1))"
   ]
  },
  {
   "cell_type": "code",
   "execution_count": 79,
   "metadata": {},
   "outputs": [
    {
     "name": "stdout",
     "output_type": "stream",
     "text": [
      "The test accuracy for final model (rf, directional) is 0.974\n"
     ]
    }
   ],
   "source": [
    "print('The test accuracy for final model (rf, directional) is {:.3f}'.\n",
    "      format(rf_d1_directional_final.score(X_test_directional_d1, y_test_directional_d1)))"
   ]
  },
  {
   "cell_type": "markdown",
   "metadata": {},
   "source": [
    "# Summary"
   ]
  },
  {
   "cell_type": "markdown",
   "metadata": {},
   "source": [
    "Although the increase in accuracy seems not so significant, which is from 96.7% to 97.4%, we decided to choose the <b>fine tuned model</b>. \n",
    "\n",
    "The reason being, comparing the two confusion matrices, the final model cleared a relatively large amount of mis-classifications. "
   ]
  },
  {
   "cell_type": "markdown",
   "metadata": {},
   "source": [
    "## (2) Gradient Boosting"
   ]
  },
  {
   "cell_type": "markdown",
   "metadata": {},
   "source": [
    "## Baseline Model"
   ]
  },
  {
   "cell_type": "code",
   "execution_count": 81,
   "metadata": {},
   "outputs": [],
   "source": [
    "gb_baseline_directional_d1 = GradientBoostingClassifier(random_state = 13)"
   ]
  },
  {
   "cell_type": "code",
   "execution_count": 82,
   "metadata": {},
   "outputs": [
    {
     "name": "stdout",
     "output_type": "stream",
     "text": [
      "Model Report: \n",
      "Mean cv score: 0.938 +/- std: 0.015\n"
     ]
    }
   ],
   "source": [
    "report_model_score(gb_baseline_directional_d1, \n",
    "                   X_train_directional_d1, \n",
    "                   y_train_directional_d1)"
   ]
  },
  {
   "cell_type": "code",
   "execution_count": 83,
   "metadata": {},
   "outputs": [],
   "source": [
    "_ = gb_baseline_directional_d1.fit(X_train_directional_d1,\n",
    "                                   y_train_directional_d1)"
   ]
  },
  {
   "cell_type": "code",
   "execution_count": 84,
   "metadata": {},
   "outputs": [
    {
     "data": {
      "image/png": "[encoded data removed]",
      "text/plain": [
       "<Figure size 432x288 with 2 Axes>"
      ]
     },
     "metadata": {},
     "output_type": "display_data"
    }
   ],
   "source": [
    "y_pred_d1_gb_directional = gb_baseline_directional_d1.predict(X_test_directional_d1)\n",
    "plot_confusion_matrix(get_confusion_matrix(y_pred_d1_gb_directional,\n",
    "                                           y_test_directional_d1))"
   ]
  },
  {
   "cell_type": "code",
   "execution_count": 85,
   "metadata": {},
   "outputs": [
    {
     "name": "stdout",
     "output_type": "stream",
     "text": [
      "The test accuracy for baseline model (gb, directional) is 0.980\n"
     ]
    }
   ],
   "source": [
    "print('The test accuracy for baseline model (gb, directional) is {:.3f}'.\n",
    "      format(gb_baseline_directional_d1.score(X_test_directional_d1,\n",
    "                                              y_test_directional_d1)))"
   ]
  },
  {
   "cell_type": "markdown",
   "metadata": {},
   "source": [
    "Still, right off the bat, gradient boosting classifier got an edge over random forest model. It scored a 93.8% mean cv score and 98% accuracy on test set. Looking at the confusion matrix, we can tell gradient boosting tells the difference between class 1 and class 4 better than random forest. "
   ]
  },
  {
   "cell_type": "markdown",
   "metadata": {},
   "source": [
    "## Hyper-parameters Tuning"
   ]
  },
  {
   "cell_type": "markdown",
   "metadata": {},
   "source": [
    "#### Step 1: Finding the best initial number of estimators"
   ]
  },
  {
   "cell_type": "markdown",
   "metadata": {},
   "source": [
    "Default values:\n",
    "- learning_rate=0.1, \n",
    "- min_samples_split=500, \n",
    "- min_samples_leaf=50,\n",
    "- max_depth=8, \n",
    "- max_features='sqrt', \n",
    "- subsample=0.8, \n",
    "- random_state=13"
   ]
  },
  {
   "cell_type": "code",
   "execution_count": 87,
   "metadata": {},
   "outputs": [],
   "source": [
    "gb_d1_directional = GradientBoostingClassifier(learning_rate=0.1, min_samples_split=500, min_samples_leaf=50,\n",
    "                                    max_depth=8, max_features='sqrt', subsample=0.8, random_state=13)\n",
    "\n",
    "param_test1_gb_d1_directional = {'n_estimators':range(20,81,20)}"
   ]
  },
  {
   "cell_type": "code",
   "execution_count": 88,
   "metadata": {},
   "outputs": [],
   "source": [
    "grid_search = GridSearchCV(gb_d1_directional, param_grid=param_test1_gb_d1_directional, cv=3, n_jobs=-1)\n",
    "_ = grid_search.fit(X_train_directional_d1,\n",
    "                    y_train_directional_d1)"
   ]
  },
  {
   "cell_type": "code",
   "execution_count": 89,
   "metadata": {},
   "outputs": [
    {
     "name": "stdout",
     "output_type": "stream",
     "text": [
      "Model with rank: 1\n",
      "Mean validation score: 0.9250, Standard Deviation: 0.0225\n",
      "Parameters: {'n_estimators': 80}\n",
      "\n",
      "Model with rank: 2\n",
      "Mean validation score: 0.9215, Standard Deviation: 0.0238\n",
      "Parameters: {'n_estimators': 60}\n",
      "\n",
      "Model with rank: 3\n",
      "Mean validation score: 0.9138, Standard Deviation: 0.0262\n",
      "Parameters: {'n_estimators': 40}\n",
      "\n"
     ]
    }
   ],
   "source": [
    "report(grid_search.grid_scores_, 3)"
   ]
  },
  {
   "cell_type": "markdown",
   "metadata": {},
   "source": [
    "We will go with 80 estimators for now."
   ]
  },
  {
   "cell_type": "code",
   "execution_count": 90,
   "metadata": {},
   "outputs": [],
   "source": [
    "gb_d1_directional = GradientBoostingClassifier(learning_rate=0.1, n_estimators=80, min_samples_leaf=50,\n",
    "                                   max_features='sqrt', subsample=0.8, random_state=13)\n",
    "\n",
    "param_test2_gb_d1_directional = {\n",
    "    \"max_depth\": range(5, 15, 3),\n",
    "    \"min_samples_split\": range(200, 601, 200)\n",
    "}"
   ]
  },
  {
   "cell_type": "code",
   "execution_count": 91,
   "metadata": {},
   "outputs": [],
   "source": [
    "grid_search = GridSearchCV(gb_d1_directional, param_grid=param_test2_gb_d1_directional, cv=3, n_jobs=-1)\n",
    "_ = grid_search.fit(X_train_directional_d1,\n",
    "                    y_train_directional_d1)"
   ]
  },
  {
   "cell_type": "code",
   "execution_count": 92,
   "metadata": {
    "scrolled": true
   },
   "outputs": [
    {
     "name": "stdout",
     "output_type": "stream",
     "text": [
      "Model with rank: 1\n",
      "Mean validation score: 0.9310, Standard Deviation: 0.0193\n",
      "Parameters: {'max_depth': 5, 'min_samples_split': 600}\n",
      "\n",
      "Model with rank: 2\n",
      "Mean validation score: 0.9293, Standard Deviation: 0.0212\n",
      "Parameters: {'max_depth': 5, 'min_samples_split': 200}\n",
      "\n",
      "Model with rank: 3\n",
      "Mean validation score: 0.9286, Standard Deviation: 0.0220\n",
      "Parameters: {'max_depth': 5, 'min_samples_split': 400}\n",
      "\n"
     ]
    }
   ],
   "source": [
    "report(grid_search.grid_scores_, 3)"
   ]
  },
  {
   "cell_type": "markdown",
   "metadata": {},
   "source": [
    "When the min_samples_split is set at 600, which means there could be a higher value that gives a better result. Thus, in the next round of tuning, we need to re-tune min_samples_split along with min_samples_leaf."
   ]
  },
  {
   "cell_type": "code",
   "execution_count": 97,
   "metadata": {},
   "outputs": [],
   "source": [
    "gb_d1_directional = GradientBoostingClassifier(learning_rate=0.1, n_estimators=80,\n",
    "                                            max_depth=5, max_features='sqrt',\n",
    "                                               subsample=0.8, random_state=13)\n",
    "\n",
    "param_test3_gb_d1_directional = {\n",
    "    \"min_samples_split\": range(600, 1001, 200),\n",
    "    \"min_samples_leaf\": range(30,71,10)\n",
    "}"
   ]
  },
  {
   "cell_type": "code",
   "execution_count": 99,
   "metadata": {},
   "outputs": [],
   "source": [
    "grid_search = GridSearchCV(gb_d1_directional, param_grid=param_test3_gb_d1_directional, cv=3, n_jobs=-1)\n",
    "_ = grid_search.fit(X_train_directional_d1,\n",
    "                    y_train_directional_d1)"
   ]
  },
  {
   "cell_type": "code",
   "execution_count": 100,
   "metadata": {},
   "outputs": [
    {
     "name": "stdout",
     "output_type": "stream",
     "text": [
      "Model with rank: 1\n",
      "Mean validation score: 0.9310, Standard Deviation: 0.0193\n",
      "Parameters: {'min_samples_leaf': 50, 'min_samples_split': 600}\n",
      "\n",
      "Model with rank: 2\n",
      "Mean validation score: 0.9309, Standard Deviation: 0.0188\n",
      "Parameters: {'min_samples_leaf': 30, 'min_samples_split': 600}\n",
      "\n",
      "Model with rank: 3\n",
      "Mean validation score: 0.9302, Standard Deviation: 0.0201\n",
      "Parameters: {'min_samples_leaf': 70, 'min_samples_split': 600}\n",
      "\n"
     ]
    }
   ],
   "source": [
    "report(grid_search.grid_scores_, 3)"
   ]
  },
  {
   "cell_type": "markdown",
   "metadata": {},
   "source": [
    "It turns out that, in our current model setting, 600 is the optimum value for min_samples_split. However, the mean cv score is still 0.07% lower than our baseline model."
   ]
  },
  {
   "cell_type": "code",
   "execution_count": 106,
   "metadata": {},
   "outputs": [],
   "source": [
    "gb_d1_directional = GradientBoostingClassifier(learning_rate=0.1, n_estimators=80, max_depth=5,\n",
    "                                   min_samples_split=600, min_samples_leaf=50, subsample=0.8,\n",
    "                                               random_state=13)\n",
    "\n",
    "param_test4_gb_d1_directional = {\n",
    "    \"max_features\": range(6, 17, 2)\n",
    "}"
   ]
  },
  {
   "cell_type": "code",
   "execution_count": 107,
   "metadata": {},
   "outputs": [],
   "source": [
    "grid_search = GridSearchCV(gb_d1_directional, param_grid=param_test4_gb_d1_directional, cv=3, n_jobs=-1)\n",
    "_ = grid_search.fit(X_train_directional_d1,\n",
    "                    y_train_directional_d1)"
   ]
  },
  {
   "cell_type": "code",
   "execution_count": 108,
   "metadata": {},
   "outputs": [
    {
     "name": "stdout",
     "output_type": "stream",
     "text": [
      "Model with rank: 1\n",
      "Mean validation score: 0.9353, Standard Deviation: 0.0161\n",
      "Parameters: {'max_features': 16}\n",
      "\n",
      "Model with rank: 2\n",
      "Mean validation score: 0.9349, Standard Deviation: 0.0162\n",
      "Parameters: {'max_features': 14}\n",
      "\n",
      "Model with rank: 3\n",
      "Mean validation score: 0.9341, Standard Deviation: 0.0158\n",
      "Parameters: {'max_features': 12}\n",
      "\n"
     ]
    }
   ],
   "source": [
    "report(grid_search.grid_scores_, 3)"
   ]
  },
  {
   "cell_type": "markdown",
   "metadata": {},
   "source": [
    "Same, there could be a higher value of max_featuers that could increase the mean cv score. We have to re-tune max_features in the next round of tuning"
   ]
  },
  {
   "cell_type": "code",
   "execution_count": 110,
   "metadata": {},
   "outputs": [],
   "source": [
    "gb_d1_directional = GradientBoostingClassifier(learning_rate=0.1, n_estimators=80, max_depth=5,\n",
    "                                   min_samples_split=600, min_samples_leaf=50, random_state=13)\n",
    "\n",
    "param_test5_gb_d1_directional = {\n",
    "    \"max_features\": range(16, 21, 2),\n",
    "    \"subsample\": [0.6, 0.7, 0.8, 0.9]\n",
    "}"
   ]
  },
  {
   "cell_type": "code",
   "execution_count": 111,
   "metadata": {},
   "outputs": [],
   "source": [
    "grid_search = GridSearchCV(gb_d1_directional, param_grid=param_test5_gb_d1_directional, cv=3, n_jobs=-1)\n",
    "_ = grid_search.fit(X_train_directional_d1,\n",
    "                    y_train_directional_d1)"
   ]
  },
  {
   "cell_type": "code",
   "execution_count": 112,
   "metadata": {},
   "outputs": [
    {
     "name": "stdout",
     "output_type": "stream",
     "text": [
      "Model with rank: 1\n",
      "Mean validation score: 0.9369, Standard Deviation: 0.0141\n",
      "Parameters: {'max_features': 20, 'subsample': 0.7}\n",
      "\n",
      "Model with rank: 2\n",
      "Mean validation score: 0.9369, Standard Deviation: 0.0142\n",
      "Parameters: {'max_features': 20, 'subsample': 0.6}\n",
      "\n",
      "Model with rank: 3\n",
      "Mean validation score: 0.9364, Standard Deviation: 0.0147\n",
      "Parameters: {'max_features': 18, 'subsample': 0.7}\n",
      "\n"
     ]
    }
   ],
   "source": [
    "report(grid_search.grid_scores_, 3)"
   ]
  },
  {
   "cell_type": "markdown",
   "metadata": {},
   "source": [
    "The results tell us that we only need 70% of the total number of features when building a model. However, we still have to find out if a higher value of max_features could increase cv score."
   ]
  },
  {
   "cell_type": "code",
   "execution_count": 129,
   "metadata": {},
   "outputs": [],
   "source": [
    "gb_d1_directional = GradientBoostingClassifier(learning_rate=0.1, n_estimators=80, max_depth=5,\n",
    "                                   min_samples_split=600, min_samples_leaf=50, random_state=13,\n",
    "                                    subsample=0.7)\n",
    "\n",
    "param_test6_gb_d1_directional = {\n",
    "    \"max_features\": range(30, 41, 2)\n",
    "}"
   ]
  },
  {
   "cell_type": "code",
   "execution_count": 130,
   "metadata": {},
   "outputs": [],
   "source": [
    "grid_search = GridSearchCV(gb_d1_directional, param_grid=param_test6_gb_d1_directional, cv=3, n_jobs=-1)\n",
    "_ = grid_search.fit(X_train_directional_d1,\n",
    "                    y_train_directional_d1)"
   ]
  },
  {
   "cell_type": "code",
   "execution_count": 131,
   "metadata": {},
   "outputs": [
    {
     "name": "stdout",
     "output_type": "stream",
     "text": [
      "Model with rank: 1\n",
      "Mean validation score: 0.9379, Standard Deviation: 0.0133\n",
      "Parameters: {'max_features': 30}\n",
      "\n",
      "Model with rank: 2\n",
      "Mean validation score: 0.9379, Standard Deviation: 0.0125\n",
      "Parameters: {'max_features': 38}\n",
      "\n",
      "Model with rank: 3\n",
      "Mean validation score: 0.9373, Standard Deviation: 0.0126\n",
      "Parameters: {'max_features': 36}\n",
      "\n"
     ]
    }
   ],
   "source": [
    "report(grid_search.grid_scores_, 3)"
   ]
  },
  {
   "cell_type": "markdown",
   "metadata": {},
   "source": [
    "When max_features is 30, the model yield a comparable mean cv score to the baseline model. However, the model is already way too complex compared to the baseline one.\n",
    "\n",
    "Let's take a look at the final result."
   ]
  },
  {
   "cell_type": "code",
   "execution_count": 126,
   "metadata": {},
   "outputs": [],
   "source": [
    "gb_d1_directional = GradientBoostingClassifier(learning_rate=0.05, n_estimators=160, max_depth=5,\n",
    "                                   min_samples_split=600, min_samples_leaf=50, random_state=13,\n",
    "                                    subsample=0.7, max_features=30)\n",
    "_ = gb_d1_directional.fit(X_train_directional_d1,\n",
    "                     y_train_directional_d1)"
   ]
  },
  {
   "cell_type": "code",
   "execution_count": 127,
   "metadata": {},
   "outputs": [
    {
     "data": {
      "image/png": "[encoded data removed]",
      "text/plain": [
       "<Figure size 432x288 with 2 Axes>"
      ]
     },
     "metadata": {},
     "output_type": "display_data"
    }
   ],
   "source": [
    "y_pred_d1_gb_directional = gb_d1_directional.predict(X_test_directional_d1)\n",
    "plot_confusion_matrix(get_confusion_matrix(y_pred_d1_gb_directional,\n",
    "                                           y_test_directional_d1))"
   ]
  },
  {
   "cell_type": "code",
   "execution_count": 128,
   "metadata": {},
   "outputs": [
    {
     "name": "stdout",
     "output_type": "stream",
     "text": [
      "The test accuracy for final model (gb, directional) is 0.978\n"
     ]
    }
   ],
   "source": [
    "print('The test accuracy for final model (gb, directional) is {:.3f}'.\n",
    "      format(gb_d1_directional.score(X_test_directional_d1,\n",
    "                                    y_test_directional_d1)))"
   ]
  },
  {
   "cell_type": "markdown",
   "metadata": {},
   "source": [
    "## Summary"
   ]
  },
  {
   "cell_type": "markdown",
   "metadata": {},
   "source": [
    "The final gradient boosting yield a similiar result to the baseline model. However, the final model is way more complex than the baseline model. Therefore, we decided to go with the <b>baseline model</b> instead of the fine-tuned one."
   ]
  },
  {
   "cell_type": "markdown",
   "metadata": {},
   "source": [
    "# Conclusion:"
   ]
  },
  {
   "cell_type": "markdown",
   "metadata": {},
   "source": [
    "Here are the models we picked for drone 1:\n",
    "- Wind Detection: <b>default</b> sklearn random forest and <b>default</b> gradient boosting.\n",
    "- Direction Detection: <b>fine-tuned</b> randome forest and <b>default</b> gradient boosting."
   ]
  },
  {
   "cell_type": "markdown",
   "metadata": {},
   "source": [
    "# Works Cited"
   ]
  },
  {
   "cell_type": "markdown",
   "metadata": {},
   "source": [
    "[1] Jain, Aarshay. “Complete Guide to Parameter Tuning in Gradient Boosting (GBM) in Python.” Analytics Vidhya, 27 May 2016, www.analyticsvidhya.com/blog/2016/02/complete-guide-parameter-tuning-gradient-boosting-gbm-python/."
   ]
  }
 ],
 "metadata": {
  "kernelspec": {
   "display_name": "Python 3",
   "language": "python",
   "name": "python3"
  },
  "language_info": {
   "codemirror_mode": {
    "name": "ipython",
    "version": 3
   },
   "file_extension": ".py",
   "mimetype": "text/x-python",
   "name": "python",
   "nbconvert_exporter": "python",
   "pygments_lexer": "ipython3",
   "version": "3.6.7"
  }
 },
 "nbformat": 4,
 "nbformat_minor": 2
}
