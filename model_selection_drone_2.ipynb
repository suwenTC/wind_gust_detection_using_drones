{
 "cells": [
  {
   "cell_type": "markdown",
   "metadata": {},
   "source": [
    "# Drone 2 Hyper-parameters Tuning"
   ]
  },
  {
   "cell_type": "markdown",
   "metadata": {},
   "source": [
    "## Introduction: "
   ]
  },
  {
   "cell_type": "markdown",
   "metadata": {},
   "source": [
    "This is the second part of the entire model selection process, which is also specifically focused on tuning the classifiers, gradient boosting and random forest, for drone 2. Without further ado, let's get right into it."
   ]
  },
  {
   "cell_type": "markdown",
   "metadata": {},
   "source": [
    "## Load Libraries"
   ]
  },
  {
   "cell_type": "code",
   "execution_count": 2,
   "metadata": {},
   "outputs": [],
   "source": [
    "import pandas as pd\n",
    "import numpy as np\n",
    "import matplotlib.pyplot as plt\n",
    "\n",
    "from utils.grid_search_utils import *\n",
    "from utils.data_visualization_utils import *\n",
    "from utils.metrics_utils import get_confusion_matrix\n",
    "\n",
    "from utils.data_storage import DataContianer\n",
    "\n",
    "from sklearn.model_selection import cross_val_score\n",
    "from sklearn.ensemble import RandomForestClassifier, GradientBoostingClassifier\n",
    "\n",
    "import warnings\n",
    "warnings.filterwarnings(\"ignore\")"
   ]
  },
  {
   "cell_type": "code",
   "execution_count": 3,
   "metadata": {},
   "outputs": [],
   "source": [
    "# constant variables: name for each drone.\n",
    "drone2 = \"drone2\""
   ]
  },
  {
   "cell_type": "markdown",
   "metadata": {},
   "source": [
    "## Load Drone 2 Data"
   ]
  },
  {
   "cell_type": "code",
   "execution_count": 3,
   "metadata": {},
   "outputs": [],
   "source": [
    "# instantiate an object that contains training and test data for Drone 2.\n",
    "drone2_gyro_data = DataContianer(drone2, 'gyro', 4)"
   ]
  },
  {
   "cell_type": "code",
   "execution_count": 4,
   "metadata": {},
   "outputs": [],
   "source": [
    "X_train_d2 = drone2_gyro_data.X_train_transformed\n",
    "y_train_d2 = drone2_gyro_data.y_train_transformed\n",
    "X_test_d2 = drone2_gyro_data.X_test_transformed\n",
    "y_test_d2 = drone2_gyro_data.y_test_transformed"
   ]
  },
  {
   "cell_type": "markdown",
   "metadata": {},
   "source": [
    "## (1) Random Forest"
   ]
  },
  {
   "cell_type": "markdown",
   "metadata": {},
   "source": [
    "#### Baseline Model"
   ]
  },
  {
   "cell_type": "markdown",
   "metadata": {},
   "source": [
    "Let's get a baseline random forest classifier without any tuning.\n",
    "\n",
    "The default parameters that sklearn chooses for random forest classifiers that we are also going to tune are the followings:\n",
    "- n_estimators = 10\n",
    "- max_features=sqrt(n_features)\n",
    "- max_depth = None\n",
    "- min_samples_split = 2\n",
    "- min_samples_leaf = 1"
   ]
  },
  {
   "cell_type": "code",
   "execution_count": 5,
   "metadata": {},
   "outputs": [],
   "source": [
    "rf_baseline_d2 = RandomForestClassifier(random_state = 13)"
   ]
  },
  {
   "cell_type": "code",
   "execution_count": 6,
   "metadata": {
    "scrolled": true
   },
   "outputs": [
    {
     "name": "stdout",
     "output_type": "stream",
     "text": [
      "Model Report: \n",
      "Mean cv score: 0.877 +/- std: 0.020\n"
     ]
    }
   ],
   "source": [
    "report_model_score(rf_baseline_d2, X_train_d2, y_train_d2)"
   ]
  },
  {
   "cell_type": "markdown",
   "metadata": {},
   "source": [
    "The mean cv score for our baseline model is <font color=blue> 0.877 </font>, with a standard deviation of <font color=blue> 0.020 </font>.\n",
    "\n",
    "Then, let's look at the confusion matrix."
   ]
  },
  {
   "cell_type": "code",
   "execution_count": 7,
   "metadata": {},
   "outputs": [],
   "source": [
    "_ = rf_baseline_d2.fit(X_train_d2, y_train_d2)"
   ]
  },
  {
   "cell_type": "markdown",
   "metadata": {},
   "source": [
    "### Visualize Confusion Matrix"
   ]
  },
  {
   "cell_type": "code",
   "execution_count": 8,
   "metadata": {},
   "outputs": [
    {
     "data": {
      "image/png": "[encoded data removed]",
      "text/plain": [
       "<Figure size 432x288 with 2 Axes>"
      ]
     },
     "metadata": {},
     "output_type": "display_data"
    }
   ],
   "source": [
    "y_pred_d2_rf = rf_baseline_d2.predict(X_test_d2)\n",
    "plot_confusion_matrix(get_confusion_matrix(y_pred_d2_rf, y_test_d2))"
   ]
  },
  {
   "cell_type": "markdown",
   "metadata": {},
   "source": [
    "### Test Accuracy"
   ]
  },
  {
   "cell_type": "code",
   "execution_count": 9,
   "metadata": {},
   "outputs": [
    {
     "name": "stdout",
     "output_type": "stream",
     "text": [
      "The test accuracy for baseline model (rf) is 0.910\n"
     ]
    }
   ],
   "source": [
    "print('The test accuracy for baseline model (rf) is {:.3f}'.\n",
    "      format(rf_baseline_d2.score(X_test_d2, y_test_d2)))"
   ]
  },
  {
   "cell_type": "markdown",
   "metadata": {},
   "source": [
    "## Hyper-parameters Tuning"
   ]
  },
  {
   "cell_type": "markdown",
   "metadata": {},
   "source": [
    "#### Step 1: Finding the best initial number of estimators"
   ]
  },
  {
   "cell_type": "code",
   "execution_count": 10,
   "metadata": {},
   "outputs": [],
   "source": [
    "rf_d2 = RandomForestClassifier(min_samples_split=500, min_samples_leaf=50,\n",
    "                               max_depth=8, max_features='sqrt', random_state=13)\n",
    "\n",
    "param_test1_rf_d2 = {\"n_estimators\": np.arange(20, 81, 20)}"
   ]
  },
  {
   "cell_type": "code",
   "execution_count": 11,
   "metadata": {},
   "outputs": [],
   "source": [
    "grid_search = GridSearchCV(rf_d2, param_grid=param_test1_rf_d2, cv=3, n_jobs=-1)\n",
    "_ = grid_search.fit(X_train_d2, y_train_d2)"
   ]
  },
  {
   "cell_type": "code",
   "execution_count": 12,
   "metadata": {
    "scrolled": true
   },
   "outputs": [
    {
     "name": "stdout",
     "output_type": "stream",
     "text": [
      "Model with rank: 1\n",
      "Mean validation score: 0.8795, Standard Deviation: 0.0164\n",
      "Parameters: {'n_estimators': 80}\n",
      "\n",
      "Model with rank: 2\n",
      "Mean validation score: 0.8794, Standard Deviation: 0.0174\n",
      "Parameters: {'n_estimators': 60}\n",
      "\n",
      "Model with rank: 3\n",
      "Mean validation score: 0.8787, Standard Deviation: 0.0184\n",
      "Parameters: {'n_estimators': 20}\n",
      "\n"
     ]
    }
   ],
   "source": [
    "report(grid_search.grid_scores_, 3)"
   ]
  },
  {
   "cell_type": "markdown",
   "metadata": {},
   "source": [
    "As we can see from the sumamry above, the best mean validation score is returned when n_estimators is 80. This also means that a higher number of estimators could give us a better result. Thus, further tuning is required for this parameter later."
   ]
  },
  {
   "cell_type": "markdown",
   "metadata": {},
   "source": [
    "### Step 2: Tuning max_depth, min_samples_split, min_samples_leaf and max_features"
   ]
  },
  {
   "cell_type": "code",
   "execution_count": 13,
   "metadata": {},
   "outputs": [],
   "source": [
    "rf_d2 = RandomForestClassifier(n_estimators=80, min_samples_leaf=50, max_features='sqrt', random_state=13)\n",
    "\n",
    "param_test2_rf_d2 = {\n",
    "    \"max_depth\": range(5, 16, 3),\n",
    "    \"min_samples_split\": range(200, 1000, 200)\n",
    "}"
   ]
  },
  {
   "cell_type": "code",
   "execution_count": 14,
   "metadata": {},
   "outputs": [],
   "source": [
    "grid_search = GridSearchCV(rf_d2, param_grid=param_test2_rf_d2, cv=3, n_jobs=-1)\n",
    "_ = grid_search.fit(X_train_d2, y_train_d2)"
   ]
  },
  {
   "cell_type": "code",
   "execution_count": 15,
   "metadata": {
    "scrolled": true
   },
   "outputs": [
    {
     "name": "stdout",
     "output_type": "stream",
     "text": [
      "Model with rank: 1\n",
      "Mean validation score: 0.8849, Standard Deviation: 0.0170\n",
      "Parameters: {'max_depth': 11, 'min_samples_split': 400}\n",
      "\n",
      "Model with rank: 2\n",
      "Mean validation score: 0.8842, Standard Deviation: 0.0164\n",
      "Parameters: {'max_depth': 14, 'min_samples_split': 400}\n",
      "\n",
      "Model with rank: 3\n",
      "Mean validation score: 0.8841, Standard Deviation: 0.0172\n",
      "Parameters: {'max_depth': 14, 'min_samples_split': 200}\n",
      "\n"
     ]
    }
   ],
   "source": [
    "report(grid_search.grid_scores_, 3)"
   ]
  },
  {
   "cell_type": "markdown",
   "metadata": {},
   "source": [
    "When max_depth is set to 11 and min_samples_split is 400 gave us the highest mean cv score. We will use this combination for max_features and min_samples_split in the later tuning.\n",
    "\n",
    "Next, our objective is to find the best value for <b>min_samples_leaf</b>"
   ]
  },
  {
   "cell_type": "code",
   "execution_count": 16,
   "metadata": {},
   "outputs": [],
   "source": [
    "rf_d2 = RandomForestClassifier(n_estimators=80, max_features='sqrt', max_depth=11, min_samples_split=400, random_state=13)\n",
    "\n",
    "param_test3_rf_d2 = {\n",
    "    \"min_samples_leaf\": range(30, 71, 10),\n",
    "}"
   ]
  },
  {
   "cell_type": "code",
   "execution_count": 17,
   "metadata": {},
   "outputs": [],
   "source": [
    "grid_search = GridSearchCV(rf_d2, param_grid=param_test3_rf_d2, cv=3, n_jobs=-1)\n",
    "_ = grid_search.fit(X_train_d2, y_train_d2)"
   ]
  },
  {
   "cell_type": "code",
   "execution_count": 18,
   "metadata": {
    "scrolled": true
   },
   "outputs": [
    {
     "name": "stdout",
     "output_type": "stream",
     "text": [
      "Model with rank: 1\n",
      "Mean validation score: 0.8849, Standard Deviation: 0.0170\n",
      "Parameters: {'min_samples_leaf': 50}\n",
      "\n",
      "Model with rank: 2\n",
      "Mean validation score: 0.8848, Standard Deviation: 0.0164\n",
      "Parameters: {'min_samples_leaf': 30}\n",
      "\n",
      "Model with rank: 3\n",
      "Mean validation score: 0.8840, Standard Deviation: 0.0163\n",
      "Parameters: {'min_samples_leaf': 60}\n",
      "\n"
     ]
    }
   ],
   "source": [
    "report(grid_search.grid_scores_, 3)"
   ]
  },
  {
   "cell_type": "markdown",
   "metadata": {},
   "source": [
    "The result has shown us that the default we picked for min_samples_leaf (50) is already the optimum value."
   ]
  },
  {
   "cell_type": "code",
   "execution_count": 19,
   "metadata": {},
   "outputs": [],
   "source": [
    "rf_d2 = RandomForestClassifier(n_estimators=80, min_samples_split=140, min_samples_leaf=50,\n",
    "                               max_depth=14, random_state=13)\n",
    "\n",
    "param_test4_rf_d2 = {\n",
    "    \"max_features\": range(6, 17, 2)\n",
    "}"
   ]
  },
  {
   "cell_type": "code",
   "execution_count": 20,
   "metadata": {},
   "outputs": [],
   "source": [
    "grid_search = GridSearchCV(rf_d2, param_grid=param_test4_rf_d2, cv=3, n_jobs=-1)\n",
    "_ = grid_search.fit(X_train_d2, y_train_d2)"
   ]
  },
  {
   "cell_type": "code",
   "execution_count": 21,
   "metadata": {
    "scrolled": true
   },
   "outputs": [
    {
     "name": "stdout",
     "output_type": "stream",
     "text": [
      "Model with rank: 1\n",
      "Mean validation score: 0.8851, Standard Deviation: 0.0183\n",
      "Parameters: {'max_features': 6}\n",
      "\n",
      "Model with rank: 2\n",
      "Mean validation score: 0.8851, Standard Deviation: 0.0177\n",
      "Parameters: {'max_features': 8}\n",
      "\n",
      "Model with rank: 3\n",
      "Mean validation score: 0.8838, Standard Deviation: 0.0188\n",
      "Parameters: {'max_features': 16}\n",
      "\n"
     ]
    }
   ],
   "source": [
    "report(grid_search.grid_scores_, 3)"
   ]
  },
  {
   "cell_type": "markdown",
   "metadata": {},
   "source": [
    "In our experiment, the total number of features is 40. Therefore, the default value is around 6 (the square root of 40). The result above shows us that the default value is already the best value for our max_features. "
   ]
  },
  {
   "cell_type": "code",
   "execution_count": 22,
   "metadata": {},
   "outputs": [],
   "source": [
    "rf_d2 = RandomForestClassifier(n_estimators=80, max_features=6, min_samples_split=140, min_samples_leaf=50,\n",
    "                               max_depth=14, random_state=13)\n",
    "\n",
    "param_test5_rf_d2 = {\n",
    "    \"n_estimators\": range(80, 200, 20)\n",
    "}"
   ]
  },
  {
   "cell_type": "code",
   "execution_count": 23,
   "metadata": {},
   "outputs": [],
   "source": [
    "grid_search = GridSearchCV(rf_d2, param_grid=param_test5_rf_d2, cv=3, n_jobs=-1)\n",
    "_ = grid_search.fit(X_train_d2, y_train_d2)"
   ]
  },
  {
   "cell_type": "code",
   "execution_count": 24,
   "metadata": {
    "scrolled": false
   },
   "outputs": [
    {
     "name": "stdout",
     "output_type": "stream",
     "text": [
      "Model with rank: 1\n",
      "Mean validation score: 0.8854, Standard Deviation: 0.0184\n",
      "Parameters: {'n_estimators': 100}\n",
      "\n",
      "Model with rank: 2\n",
      "Mean validation score: 0.8852, Standard Deviation: 0.0179\n",
      "Parameters: {'n_estimators': 120}\n",
      "\n",
      "Model with rank: 3\n",
      "Mean validation score: 0.8851, Standard Deviation: 0.0178\n",
      "Parameters: {'n_estimators': 140}\n",
      "\n"
     ]
    }
   ],
   "source": [
    "report(grid_search.grid_scores_, 3)"
   ]
  },
  {
   "cell_type": "markdown",
   "metadata": {},
   "source": [
    "After retuning the number of estimators, we found out that when it is set to 100, we have the highest mean cv score, 88.54%. The baseline model gave us a 87.7% mean cv score, which is only marginally smaller than the tuned model. However, the model is already way more complex than the baseline model. In this situation, we should follow occam's razor and pick the simplier model. Nevertheless, let's look at how the fine-tuned model performes on the test set."
   ]
  },
  {
   "cell_type": "markdown",
   "metadata": {},
   "source": [
    "## Final Random Forest Model, Drone 2"
   ]
  },
  {
   "cell_type": "code",
   "execution_count": 25,
   "metadata": {},
   "outputs": [
    {
     "data": {
      "image/png": "[encoded data removed]",
      "text/plain": [
       "<Figure size 432x288 with 2 Axes>"
      ]
     },
     "metadata": {},
     "output_type": "display_data"
    }
   ],
   "source": [
    "rf_d2_final = grid_search\n",
    "y_pred_d2_rf = rf_d2_final.predict(X_test_d2)\n",
    "plot_confusion_matrix(get_confusion_matrix(y_pred_d2_rf, y_test_d2))"
   ]
  },
  {
   "cell_type": "code",
   "execution_count": 26,
   "metadata": {},
   "outputs": [
    {
     "name": "stdout",
     "output_type": "stream",
     "text": [
      "The test accuracy for final model (rf) is 0.9075\n"
     ]
    }
   ],
   "source": [
    "print('The test accuracy for final model (rf) is {:.4f}'.\n",
    "      format(rf_d2_final.score(X_test_d2, y_test_d2)))"
   ]
  },
  {
   "cell_type": "markdown",
   "metadata": {},
   "source": [
    "# Conclusion"
   ]
  },
  {
   "cell_type": "markdown",
   "metadata": {},
   "source": [
    "Even though the final model is way complex than the baseline model, the test accuracy is almost equal to the one of our baseline model, which gives more confidence in choosing the baseline model over the fine tuned one."
   ]
  },
  {
   "cell_type": "markdown",
   "metadata": {},
   "source": [
    "## (1) Gradient Boosting"
   ]
  },
  {
   "cell_type": "markdown",
   "metadata": {},
   "source": [
    "As usual, let's get a baseline classifier first\n",
    "\n",
    "The default parameters that sklearn chooses for gradient boosting classifiers are the followings:\n",
    "- learning_rate = 0.1\n",
    "- n_estimators = 100\n",
    "- max_features=sqrt(n_features)\n",
    "- max_depth = 3\n",
    "- min_samples_split = 2\n",
    "- min_samples_leaf = 1\n",
    "- subsample = 1.0"
   ]
  },
  {
   "cell_type": "code",
   "execution_count": 27,
   "metadata": {},
   "outputs": [],
   "source": [
    "gb_baseline_d2 = GradientBoostingClassifier(random_state = 13)"
   ]
  },
  {
   "cell_type": "code",
   "execution_count": 28,
   "metadata": {},
   "outputs": [
    {
     "name": "stdout",
     "output_type": "stream",
     "text": [
      "Model Report: \n",
      "Mean cv score: 0.888 +/- std: 0.021\n"
     ]
    }
   ],
   "source": [
    "report_model_score(gb_baseline_d2, X_train_d2, y_train_d2)"
   ]
  },
  {
   "cell_type": "code",
   "execution_count": 29,
   "metadata": {},
   "outputs": [],
   "source": [
    "_ = gb_baseline_d2.fit(X_train_d2, y_train_d2)"
   ]
  },
  {
   "cell_type": "code",
   "execution_count": 30,
   "metadata": {},
   "outputs": [
    {
     "data": {
      "image/png": "[encoded data removed]",
      "text/plain": [
       "<Figure size 432x288 with 2 Axes>"
      ]
     },
     "metadata": {},
     "output_type": "display_data"
    }
   ],
   "source": [
    "y_pred_d2_gb = gb_baseline_d2.predict(X_test_d2)\n",
    "plot_confusion_matrix(get_confusion_matrix(y_pred_d2_gb, y_test_d2))"
   ]
  },
  {
   "cell_type": "code",
   "execution_count": 31,
   "metadata": {},
   "outputs": [
    {
     "name": "stdout",
     "output_type": "stream",
     "text": [
      "The test accuracy for baseline model (gb) is 0.909\n"
     ]
    }
   ],
   "source": [
    "print('The test accuracy for baseline model (gb) is {:.3f}'.\n",
    "      format(gb_baseline_d2.score(X_test_d2, y_test_d2)))"
   ]
  },
  {
   "cell_type": "markdown",
   "metadata": {},
   "source": [
    "## Hyper-parameters Tuning"
   ]
  },
  {
   "cell_type": "markdown",
   "metadata": {},
   "source": [
    "#### Step 1: Finding the best initial combination of n_estimators and learning_rate"
   ]
  },
  {
   "cell_type": "code",
   "execution_count": 32,
   "metadata": {},
   "outputs": [],
   "source": [
    "gb_d2 = GradientBoostingClassifier(learning_rate=0.1, min_samples_split=500, min_samples_leaf=50,\n",
    "                                    max_depth=8, max_features='sqrt', subsample=0.8, random_state=13)\n",
    "\n",
    "param_test1_gb_d2 = {'n_estimators':range(20,81,20)}"
   ]
  },
  {
   "cell_type": "code",
   "execution_count": 33,
   "metadata": {},
   "outputs": [],
   "source": [
    "grid_search = GridSearchCV(gb_d2, param_grid=param_test1_gb_d2, cv=3, n_jobs=-1)\n",
    "_ = grid_search.fit(X_train_d2, y_train_d2)"
   ]
  },
  {
   "cell_type": "code",
   "execution_count": 34,
   "metadata": {
    "scrolled": false
   },
   "outputs": [
    {
     "name": "stdout",
     "output_type": "stream",
     "text": [
      "Model with rank: 1\n",
      "Mean validation score: 0.8880, Standard Deviation: 0.0187\n",
      "Parameters: {'n_estimators': 60}\n",
      "\n",
      "Model with rank: 2\n",
      "Mean validation score: 0.8879, Standard Deviation: 0.0184\n",
      "Parameters: {'n_estimators': 80}\n",
      "\n",
      "Model with rank: 3\n",
      "Mean validation score: 0.8864, Standard Deviation: 0.0200\n",
      "Parameters: {'n_estimators': 40}\n",
      "\n"
     ]
    }
   ],
   "source": [
    "report(grid_search.grid_scores_, 3)"
   ]
  },
  {
   "cell_type": "code",
   "execution_count": 35,
   "metadata": {},
   "outputs": [],
   "source": [
    "gb_d2 = GradientBoostingClassifier(learning_rate=0.1, n_estimators=60, min_samples_leaf=50,\n",
    "                                   max_features='sqrt', subsample=0.8, random_state=13)\n",
    "\n",
    "param_test2_gb_d2 = {\n",
    "    \"max_depth\": range(5, 15, 3),\n",
    "    \"min_samples_split\": range(200, 601, 200)\n",
    "}"
   ]
  },
  {
   "cell_type": "code",
   "execution_count": 36,
   "metadata": {},
   "outputs": [],
   "source": [
    "grid_search = GridSearchCV(gb_d2, param_grid=param_test2_gb_d2, cv=3, n_jobs=-1)\n",
    "_ = grid_search.fit(X_train_d2, y_train_d2)"
   ]
  },
  {
   "cell_type": "code",
   "execution_count": 37,
   "metadata": {
    "scrolled": true
   },
   "outputs": [
    {
     "name": "stdout",
     "output_type": "stream",
     "text": [
      "Model with rank: 1\n",
      "Mean validation score: 0.8898, Standard Deviation: 0.0189\n",
      "Parameters: {'max_depth': 14, 'min_samples_split': 600}\n",
      "\n",
      "Model with rank: 2\n",
      "Mean validation score: 0.8889, Standard Deviation: 0.0171\n",
      "Parameters: {'max_depth': 11, 'min_samples_split': 400}\n",
      "\n",
      "Model with rank: 3\n",
      "Mean validation score: 0.8887, Standard Deviation: 0.0197\n",
      "Parameters: {'max_depth': 8, 'min_samples_split': 600}\n",
      "\n"
     ]
    }
   ],
   "source": [
    "report(grid_search.grid_scores_, 3)"
   ]
  },
  {
   "cell_type": "markdown",
   "metadata": {},
   "source": [
    "The results show us that there could be a higher value for max_depth and min_samples_split that provides a better mean cv score. Therefore, we need to re-tune max_depth and min_samples_split as a combination again."
   ]
  },
  {
   "cell_type": "code",
   "execution_count": 38,
   "metadata": {},
   "outputs": [],
   "source": [
    "gb_d2 = GradientBoostingClassifier(learning_rate=0.1, n_estimators=60, min_samples_leaf=50,\n",
    "                                   max_features='sqrt', subsample=0.8, random_state=13)\n",
    "\n",
    "param_test3_gb_d2 = {\n",
    "    \"max_depth\": range(14, 17, 1),\n",
    "    \"min_samples_split\": range(600, 1000, 200)\n",
    "}"
   ]
  },
  {
   "cell_type": "code",
   "execution_count": 39,
   "metadata": {},
   "outputs": [],
   "source": [
    "grid_search = GridSearchCV(gb_d2, param_grid=param_test3_gb_d2, cv=3, n_jobs=-1)\n",
    "_ = grid_search.fit(X_train_d2, y_train_d2)"
   ]
  },
  {
   "cell_type": "code",
   "execution_count": 40,
   "metadata": {
    "scrolled": true
   },
   "outputs": [
    {
     "name": "stdout",
     "output_type": "stream",
     "text": [
      "Model with rank: 1\n",
      "Mean validation score: 0.8898, Standard Deviation: 0.0189\n",
      "Parameters: {'max_depth': 14, 'min_samples_split': 600}\n",
      "\n",
      "Model with rank: 2\n",
      "Mean validation score: 0.8895, Standard Deviation: 0.0191\n",
      "Parameters: {'max_depth': 14, 'min_samples_split': 800}\n",
      "\n",
      "Model with rank: 3\n",
      "Mean validation score: 0.8886, Standard Deviation: 0.0192\n",
      "Parameters: {'max_depth': 16, 'min_samples_split': 800}\n",
      "\n"
     ]
    }
   ],
   "source": [
    "report(grid_search.grid_scores_, 3)"
   ]
  },
  {
   "cell_type": "markdown",
   "metadata": {},
   "source": [
    "It turns our that when max_depth is 14 and min_samples_split is 600 gives us the best mean cv score."
   ]
  },
  {
   "cell_type": "code",
   "execution_count": 46,
   "metadata": {},
   "outputs": [],
   "source": [
    "gb_d2 = GradientBoostingClassifier(learning_rate=0.1, n_estimators=60, max_depth=14,\n",
    "                                   min_samples_split = 600,\n",
    "                                   max_features='sqrt', subsample=0.8, random_state=13)\n",
    "\n",
    "param_test4_gb_d2 = {\n",
    "    \"min_samples_leaf\": range(30,71,10)\n",
    "}"
   ]
  },
  {
   "cell_type": "code",
   "execution_count": 47,
   "metadata": {},
   "outputs": [],
   "source": [
    "grid_search = GridSearchCV(gb_d2, param_grid=param_test4_gb_d2, cv=3, n_jobs=-1)\n",
    "_ = grid_search.fit(X_train_d2, y_train_d2)"
   ]
  },
  {
   "cell_type": "code",
   "execution_count": 48,
   "metadata": {
    "scrolled": true
   },
   "outputs": [
    {
     "name": "stdout",
     "output_type": "stream",
     "text": [
      "Model with rank: 1\n",
      "Mean validation score: 0.8898, Standard Deviation: 0.0189\n",
      "Parameters: {'min_samples_leaf': 50}\n",
      "\n",
      "Model with rank: 2\n",
      "Mean validation score: 0.8896, Standard Deviation: 0.0188\n",
      "Parameters: {'min_samples_leaf': 60}\n",
      "\n",
      "Model with rank: 3\n",
      "Mean validation score: 0.8883, Standard Deviation: 0.0187\n",
      "Parameters: {'min_samples_leaf': 30}\n",
      "\n"
     ]
    }
   ],
   "source": [
    "report(grid_search.grid_scores_, 3)"
   ]
  },
  {
   "cell_type": "code",
   "execution_count": 49,
   "metadata": {},
   "outputs": [],
   "source": [
    "gb_d2 = GradientBoostingClassifier(learning_rate=0.1, n_estimators=60, max_depth=14,\n",
    "                                   min_samples_split = 600,\n",
    "                                   min_samples_leaf=50, subsample=0.8, random_state=13)\n",
    "\n",
    "param_test5_gb_d2 = {\n",
    "    \"max_features\": range(6, 17, 2)\n",
    "}"
   ]
  },
  {
   "cell_type": "code",
   "execution_count": 50,
   "metadata": {},
   "outputs": [],
   "source": [
    "grid_search = GridSearchCV(gb_d2, param_grid=param_test5_gb_d2, cv=3, n_jobs=-1)\n",
    "_ = grid_search.fit(X_train_d2, y_train_d2)"
   ]
  },
  {
   "cell_type": "code",
   "execution_count": 51,
   "metadata": {},
   "outputs": [
    {
     "name": "stdout",
     "output_type": "stream",
     "text": [
      "Model with rank: 1\n",
      "Mean validation score: 0.8898, Standard Deviation: 0.0189\n",
      "Parameters: {'max_features': 6}\n",
      "\n",
      "Model with rank: 2\n",
      "Mean validation score: 0.8887, Standard Deviation: 0.0169\n",
      "Parameters: {'max_features': 14}\n",
      "\n",
      "Model with rank: 3\n",
      "Mean validation score: 0.8882, Standard Deviation: 0.0177\n",
      "Parameters: {'max_features': 10}\n",
      "\n"
     ]
    }
   ],
   "source": [
    "report(grid_search.grid_scores_, 3)"
   ]
  },
  {
   "cell_type": "code",
   "execution_count": 52,
   "metadata": {},
   "outputs": [],
   "source": [
    "gb_d2 = GradientBoostingClassifier(learning_rate=0.1, n_estimators=60, max_depth=11,\n",
    "                                   min_samples_split=200, max_features=6,\n",
    "                                   min_samples_leaf=50, random_state=13)\n",
    "\n",
    "param_test5_gb_d2 = {\n",
    "    \"subsample\": [0.6, 0.7, 0.8, 0.9]\n",
    "}"
   ]
  },
  {
   "cell_type": "code",
   "execution_count": 53,
   "metadata": {},
   "outputs": [],
   "source": [
    "grid_search = GridSearchCV(gb_d2, param_grid=param_test5_gb_d2, cv=3, n_jobs=-1)\n",
    "_ = grid_search.fit(X_train_d2, y_train_d2)"
   ]
  },
  {
   "cell_type": "code",
   "execution_count": 54,
   "metadata": {
    "scrolled": false
   },
   "outputs": [
    {
     "name": "stdout",
     "output_type": "stream",
     "text": [
      "Model with rank: 1\n",
      "Mean validation score: 0.8883, Standard Deviation: 0.0182\n",
      "Parameters: {'subsample': 0.6}\n",
      "\n",
      "Model with rank: 2\n",
      "Mean validation score: 0.8880, Standard Deviation: 0.0182\n",
      "Parameters: {'subsample': 0.7}\n",
      "\n",
      "Model with rank: 3\n",
      "Mean validation score: 0.8878, Standard Deviation: 0.0182\n",
      "Parameters: {'subsample': 0.9}\n",
      "\n"
     ]
    }
   ],
   "source": [
    "report(grid_search.grid_scores_, 3)"
   ]
  },
  {
   "cell_type": "markdown",
   "metadata": {},
   "source": [
    "Re-tuning subsample brought down the mean cv score slightly, thus, we will choose 0.8 instead."
   ]
  },
  {
   "cell_type": "code",
   "execution_count": 59,
   "metadata": {},
   "outputs": [],
   "source": [
    "gb_d2_final = GradientBoostingClassifier(learning_rate=0.05, n_estimators=120, max_depth=11,\n",
    "                                   min_samples_split=200, max_features=6, subsample=0.8,\n",
    "                                   min_samples_leaf=50, random_state=13)"
   ]
  },
  {
   "cell_type": "code",
   "execution_count": 60,
   "metadata": {},
   "outputs": [
    {
     "name": "stdout",
     "output_type": "stream",
     "text": [
      "Model Report: \n",
      "Mean cv score: 0.889 +/- std: 0.019\n"
     ]
    }
   ],
   "source": [
    "report_model_score(gb_d2_final, X_train_d2, y_train_d2)"
   ]
  },
  {
   "cell_type": "code",
   "execution_count": 62,
   "metadata": {},
   "outputs": [
    {
     "data": {
      "image/png": "[encoded data removed]",
      "text/plain": [
       "<Figure size 432x288 with 2 Axes>"
      ]
     },
     "metadata": {},
     "output_type": "display_data"
    }
   ],
   "source": [
    "gb_d2_final.fit(X_train_d2, y_train_d2)\n",
    "y_pred_d2_gb = gb_d2_final.predict(X_test_d2)\n",
    "plot_confusion_matrix(get_confusion_matrix(y_pred_d2_gb, y_test_d2))"
   ]
  },
  {
   "cell_type": "code",
   "execution_count": 63,
   "metadata": {},
   "outputs": [
    {
     "name": "stdout",
     "output_type": "stream",
     "text": [
      "The test accuracy for final model (gb) is 0.9108\n"
     ]
    }
   ],
   "source": [
    "print('The test accuracy for final model (gb) is {:.4f}'.\n",
    "      format(gb_d2_final.score(X_test_d2, y_test_d2)))"
   ]
  },
  {
   "cell_type": "markdown",
   "metadata": {},
   "source": [
    "The final model yielded a mean cv score of 88.9% and an accuracy of 91%, both of which are higher than what the baseline model produced. However, again, according to occam's razor law, we will choose the baseline model because its simplicity."
   ]
  },
  {
   "cell_type": "markdown",
   "metadata": {},
   "source": [
    "## Directional Data"
   ]
  },
  {
   "cell_type": "markdown",
   "metadata": {},
   "source": [
    "## Load Data"
   ]
  },
  {
   "cell_type": "code",
   "execution_count": 4,
   "metadata": {},
   "outputs": [],
   "source": [
    "# instantiate an object that contains training and test data for drone 1.\n",
    "drone2_gyro_directional = DataContianer('drone2', 'acc', 4, is_directional=True)"
   ]
  },
  {
   "cell_type": "code",
   "execution_count": 5,
   "metadata": {},
   "outputs": [],
   "source": [
    "X_train_directional_d2 = drone2_gyro_directional.X_train_transformed\n",
    "y_train_directional_d2 = drone2_gyro_directional.y_train_transformed\n",
    "X_test_directional_d2 = drone2_gyro_directional.X_test_transformed\n",
    "y_test_directional_d2 = drone2_gyro_directional.y_test_transformed"
   ]
  },
  {
   "cell_type": "markdown",
   "metadata": {},
   "source": [
    "## (1) Random Forest"
   ]
  },
  {
   "cell_type": "markdown",
   "metadata": {},
   "source": [
    "Let's get a baseline model first.\n",
    "\n",
    "The default parameters that sklearn chooses for random forest classifiers are the followings:\n",
    "- n_estimators = 10\n",
    "- max_features=sqrt(n_features)\n",
    "- max_depth = None\n",
    "- min_samples_split = 2\n",
    "- min_samples_leaf = 1"
   ]
  },
  {
   "cell_type": "code",
   "execution_count": 6,
   "metadata": {},
   "outputs": [],
   "source": [
    "rf_baseline_directional_d2 = RandomForestClassifier(random_state = 13)"
   ]
  },
  {
   "cell_type": "code",
   "execution_count": 8,
   "metadata": {},
   "outputs": [
    {
     "name": "stdout",
     "output_type": "stream",
     "text": [
      "Model Report: \n",
      "Mean cv score: 0.949 +/- std: 0.013\n"
     ]
    }
   ],
   "source": [
    "report_model_score(rf_baseline_directional_d2, X_train_directional_d2, y_train_directional_d2)"
   ]
  },
  {
   "cell_type": "code",
   "execution_count": 9,
   "metadata": {},
   "outputs": [],
   "source": [
    "_ = rf_baseline_directional_d2.fit(X_train_directional_d2, y_train_directional_d2)"
   ]
  },
  {
   "cell_type": "code",
   "execution_count": 10,
   "metadata": {},
   "outputs": [
    {
     "data": {
      "image/png": "[encoded data removed]",
      "text/plain": [
       "<Figure size 432x288 with 2 Axes>"
      ]
     },
     "metadata": {},
     "output_type": "display_data"
    }
   ],
   "source": [
    "y_pred_d2_rf_directional = rf_baseline_directional_d2.predict(X_test_directional_d2)\n",
    "plot_confusion_matrix(get_confusion_matrix(y_pred_d2_rf_directional, y_test_directional_d2))"
   ]
  },
  {
   "cell_type": "code",
   "execution_count": 11,
   "metadata": {},
   "outputs": [
    {
     "name": "stdout",
     "output_type": "stream",
     "text": [
      "The test accuracy for baseline model (rf, directional) is 0.984\n"
     ]
    }
   ],
   "source": [
    "print('The test accuracy for baseline model (rf, directional) is {:.3f}'.\n",
    "      format(rf_baseline_directional_d2.score(X_test_directional_d2, y_test_directional_d2)))"
   ]
  },
  {
   "cell_type": "markdown",
   "metadata": {},
   "source": [
    "## Hyper-parameters Tuning"
   ]
  },
  {
   "cell_type": "code",
   "execution_count": 12,
   "metadata": {},
   "outputs": [],
   "source": [
    "rf_d2_directional = RandomForestClassifier(min_samples_split=500, min_samples_leaf=50,\n",
    "                               max_depth=8, max_features='sqrt', random_state=13)\n",
    "\n",
    "param_test2_rf_d2_directional = {\"n_estimators\": np.arange(20, 81, 20)}"
   ]
  },
  {
   "cell_type": "code",
   "execution_count": 13,
   "metadata": {},
   "outputs": [],
   "source": [
    "grid_search = GridSearchCV(rf_d2_directional, param_grid=param_test2_rf_d2_directional, cv=3, n_jobs=-1)\n",
    "_ = grid_search.fit(X_train_directional_d2, y_train_directional_d2)"
   ]
  },
  {
   "cell_type": "code",
   "execution_count": 14,
   "metadata": {
    "scrolled": false
   },
   "outputs": [
    {
     "name": "stdout",
     "output_type": "stream",
     "text": [
      "Model with rank: 1\n",
      "Mean validation score: 0.9456, Standard Deviation: 0.0176\n",
      "Parameters: {'n_estimators': 20}\n",
      "\n",
      "Model with rank: 2\n",
      "Mean validation score: 0.9452, Standard Deviation: 0.0209\n",
      "Parameters: {'n_estimators': 60}\n",
      "\n",
      "Model with rank: 3\n",
      "Mean validation score: 0.9444, Standard Deviation: 0.0206\n",
      "Parameters: {'n_estimators': 40}\n",
      "\n"
     ]
    }
   ],
   "source": [
    "report(grid_search.grid_scores_, 3)"
   ]
  },
  {
   "cell_type": "markdown",
   "metadata": {},
   "source": [
    "The results indicated that 20 estimators are sufficient in our setting."
   ]
  },
  {
   "cell_type": "code",
   "execution_count": 15,
   "metadata": {},
   "outputs": [],
   "source": [
    "rf_d2_directional = RandomForestClassifier(n_estimators=20, min_samples_leaf=50, max_features='sqrt', random_state=13)\n",
    "\n",
    "param_test2_rf_d2_directional = {\n",
    "    \"max_depth\": range(5, 16, 3),\n",
    "    \"min_samples_split\": range(200, 1000, 200)\n",
    "}"
   ]
  },
  {
   "cell_type": "code",
   "execution_count": 17,
   "metadata": {},
   "outputs": [],
   "source": [
    "grid_search = GridSearchCV(rf_d2_directional, param_grid=param_test2_rf_d2_directional, cv=3, n_jobs=-1)\n",
    "_ = grid_search.fit(X_train_directional_d2, y_train_directional_d2)"
   ]
  },
  {
   "cell_type": "code",
   "execution_count": 18,
   "metadata": {},
   "outputs": [
    {
     "name": "stdout",
     "output_type": "stream",
     "text": [
      "Model with rank: 1\n",
      "Mean validation score: 0.9475, Standard Deviation: 0.0191\n",
      "Parameters: {'max_depth': 14, 'min_samples_split': 200}\n",
      "\n",
      "Model with rank: 2\n",
      "Mean validation score: 0.9470, Standard Deviation: 0.0176\n",
      "Parameters: {'max_depth': 14, 'min_samples_split': 600}\n",
      "\n",
      "Model with rank: 3\n",
      "Mean validation score: 0.9469, Standard Deviation: 0.0180\n",
      "Parameters: {'max_depth': 11, 'min_samples_split': 200}\n",
      "\n"
     ]
    }
   ],
   "source": [
    "report(grid_search.grid_scores_, 3)"
   ]
  },
  {
   "cell_type": "code",
   "execution_count": 19,
   "metadata": {},
   "outputs": [],
   "source": [
    "rf_d2_directional = RandomForestClassifier(n_estimators=20, max_features='sqrt', \n",
    "                                           max_depth=14, min_samples_split=200, random_state=13)\n",
    "\n",
    "param_test3_rf_d2_directional = {\n",
    "    \"min_samples_leaf\": range(30, 71, 10),\n",
    "}"
   ]
  },
  {
   "cell_type": "code",
   "execution_count": 20,
   "metadata": {},
   "outputs": [],
   "source": [
    "grid_search = GridSearchCV(rf_d2_directional, param_grid=param_test3_rf_d2_directional, cv=3, n_jobs=-1)\n",
    "_ = grid_search.fit(X_train_directional_d2, y_train_directional_d2)"
   ]
  },
  {
   "cell_type": "code",
   "execution_count": 21,
   "metadata": {
    "scrolled": true
   },
   "outputs": [
    {
     "name": "stdout",
     "output_type": "stream",
     "text": [
      "Model with rank: 1\n",
      "Mean validation score: 0.9505, Standard Deviation: 0.0165\n",
      "Parameters: {'min_samples_leaf': 40}\n",
      "\n",
      "Model with rank: 2\n",
      "Mean validation score: 0.9502, Standard Deviation: 0.0180\n",
      "Parameters: {'min_samples_leaf': 70}\n",
      "\n",
      "Model with rank: 3\n",
      "Mean validation score: 0.9497, Standard Deviation: 0.0189\n",
      "Parameters: {'min_samples_leaf': 30}\n",
      "\n"
     ]
    }
   ],
   "source": [
    "report(grid_search.grid_scores_, 3)"
   ]
  },
  {
   "cell_type": "markdown",
   "metadata": {},
   "source": [
    "By setting min_samples_leaf to 40, we are able to increase the mean cv score to 95.05%."
   ]
  },
  {
   "cell_type": "code",
   "execution_count": 22,
   "metadata": {},
   "outputs": [],
   "source": [
    "rf_d2_directional = RandomForestClassifier(n_estimators=20, min_samples_split=200,\n",
    "                                           min_samples_leaf=40, max_depth=14, random_state=13)\n",
    "\n",
    "param_test4_rf_d2_directional = {\n",
    "    \"max_features\": range(6, 17, 2)\n",
    "}"
   ]
  },
  {
   "cell_type": "code",
   "execution_count": 23,
   "metadata": {},
   "outputs": [],
   "source": [
    "grid_search = GridSearchCV(rf_d2_directional, param_grid=param_test4_rf_d2_directional, cv=3, n_jobs=-1)\n",
    "_ = grid_search.fit(X_train_directional_d2, y_train_directional_d2)"
   ]
  },
  {
   "cell_type": "code",
   "execution_count": 24,
   "metadata": {
    "scrolled": true
   },
   "outputs": [
    {
     "name": "stdout",
     "output_type": "stream",
     "text": [
      "Model with rank: 1\n",
      "Mean validation score: 0.9554, Standard Deviation: 0.0137\n",
      "Parameters: {'max_features': 14}\n",
      "\n",
      "Model with rank: 2\n",
      "Mean validation score: 0.9551, Standard Deviation: 0.0136\n",
      "Parameters: {'max_features': 10}\n",
      "\n",
      "Model with rank: 3\n",
      "Mean validation score: 0.9550, Standard Deviation: 0.0135\n",
      "Parameters: {'max_features': 16}\n",
      "\n"
     ]
    }
   ],
   "source": [
    "report(grid_search.grid_scores_, 3)"
   ]
  },
  {
   "cell_type": "markdown",
   "metadata": {},
   "source": [
    "Tuning max_features further improved the mean cv score. However, the effect of tuning did not gave a drastic improvement. The mean cv score improved slowly after each round of tuning, which means our model has almost reached its upper bound, in terms of mean cv score."
   ]
  },
  {
   "cell_type": "code",
   "execution_count": 42,
   "metadata": {},
   "outputs": [],
   "source": [
    "rf_d2_directional = RandomForestClassifier(max_features=14, min_samples_split=200, \n",
    "                                           min_samples_leaf=60, max_depth=14, random_state=13)\n",
    "\n",
    "param_test5_rf_d2_directional = {\n",
    "    \"n_estimators\": range(80, 200, 20)\n",
    "}"
   ]
  },
  {
   "cell_type": "code",
   "execution_count": 43,
   "metadata": {},
   "outputs": [],
   "source": [
    "grid_search = GridSearchCV(rf_d2_directional, param_grid=param_test5_rf_d2_directional, cv=3, n_jobs=-1)\n",
    "_ = grid_search.fit(X_train_directional_d2, y_train_directional_d2)"
   ]
  },
  {
   "cell_type": "code",
   "execution_count": 44,
   "metadata": {
    "scrolled": false
   },
   "outputs": [
    {
     "name": "stdout",
     "output_type": "stream",
     "text": [
      "Model with rank: 1\n",
      "Mean validation score: 0.9568, Standard Deviation: 0.0130\n",
      "Parameters: {'n_estimators': 140}\n",
      "\n",
      "Model with rank: 2\n",
      "Mean validation score: 0.9568, Standard Deviation: 0.0125\n",
      "Parameters: {'n_estimators': 180}\n",
      "\n",
      "Model with rank: 3\n",
      "Mean validation score: 0.9568, Standard Deviation: 0.0125\n",
      "Parameters: {'n_estimators': 160}\n",
      "\n"
     ]
    }
   ],
   "source": [
    "report(grid_search.grid_scores_, 3)"
   ]
  },
  {
   "cell_type": "markdown",
   "metadata": {},
   "source": [
    "The final model returned a 95.68% mean cv score, which is marginally greater than the one of baseline model. However, the final model requires to use 140 estimators, which is way more than what baseline model uses, which is 10. At this point, we have decided to use the baseline model."
   ]
  },
  {
   "cell_type": "markdown",
   "metadata": {},
   "source": [
    "## Final Random Forest Model, Drone 2"
   ]
  },
  {
   "cell_type": "code",
   "execution_count": 45,
   "metadata": {},
   "outputs": [],
   "source": [
    "rf_d2_directional_final = RandomForestClassifier(n_estimators=140, max_features=14, min_samples_split=200, \n",
    "                                           min_samples_leaf=60, max_depth=14, random_state=13)\n",
    "\n",
    "_ = rf_d2_directional_final.fit(X_train_directional_d2, y_train_directional_d2)"
   ]
  },
  {
   "cell_type": "code",
   "execution_count": 46,
   "metadata": {},
   "outputs": [
    {
     "data": {
      "image/png": "[encoded data removed]",
      "text/plain": [
       "<Figure size 432x288 with 2 Axes>"
      ]
     },
     "metadata": {},
     "output_type": "display_data"
    }
   ],
   "source": [
    "y_pred_d2_rf_directional = rf_d2_directional_final.predict(X_test_directional_d2)\n",
    "plot_confusion_matrix(get_confusion_matrix(y_pred_d2_rf_directional, y_test_directional_d2))"
   ]
  },
  {
   "cell_type": "code",
   "execution_count": 47,
   "metadata": {},
   "outputs": [
    {
     "name": "stdout",
     "output_type": "stream",
     "text": [
      "The test accuracy for final model (rf, directional) is 0.987\n"
     ]
    }
   ],
   "source": [
    "print('The test accuracy for final model (rf, directional) is {:.3f}'.\n",
    "      format(rf_d2_directional_final.score(X_test_directional_d2, y_test_directional_d2)))"
   ]
  },
  {
   "cell_type": "markdown",
   "metadata": {},
   "source": [
    "## Conclusion"
   ]
  },
  {
   "cell_type": "markdown",
   "metadata": {},
   "source": [
    "The final model performed equally well as the baseline model, but it is way more complex. We will go with the baseline model."
   ]
  },
  {
   "cell_type": "markdown",
   "metadata": {},
   "source": [
    "## (2) Gradient Boosting"
   ]
  },
  {
   "cell_type": "markdown",
   "metadata": {},
   "source": [
    "As usual, let's get a baseline classifier first\n",
    "\n",
    "The default parameters that sklearn chooses for gradient boosting classifiers are the followings:\n",
    "- learning_rate = 0.1\n",
    "- n_estimators = 100\n",
    "- max_features=sqrt(n_features)\n",
    "- max_depth = 3\n",
    "- min_samples_split = 2\n",
    "- min_samples_leaf = 1\n",
    "- subsample = 1.0"
   ]
  },
  {
   "cell_type": "code",
   "execution_count": 48,
   "metadata": {},
   "outputs": [],
   "source": [
    "gb_baseline_directional_d2 = GradientBoostingClassifier(random_state = 13)"
   ]
  },
  {
   "cell_type": "code",
   "execution_count": 49,
   "metadata": {},
   "outputs": [
    {
     "name": "stdout",
     "output_type": "stream",
     "text": [
      "Model Report: \n",
      "Mean cv score: 0.962 +/- std: 0.006\n"
     ]
    }
   ],
   "source": [
    "report_model_score(gb_baseline_directional_d2, \n",
    "                   X_train_directional_d2, \n",
    "                   y_train_directional_d2)"
   ]
  },
  {
   "cell_type": "code",
   "execution_count": 50,
   "metadata": {},
   "outputs": [],
   "source": [
    "_ = gb_baseline_directional_d2.fit(X_train_directional_d2,\n",
    "                                   y_train_directional_d2)"
   ]
  },
  {
   "cell_type": "code",
   "execution_count": 51,
   "metadata": {},
   "outputs": [
    {
     "data": {
      "image/png": "[encoded data removed]",
      "text/plain": [
       "<Figure size 432x288 with 2 Axes>"
      ]
     },
     "metadata": {},
     "output_type": "display_data"
    }
   ],
   "source": [
    "y_pred_d2_gb_directional = gb_baseline_directional_d2.predict(X_test_directional_d2)\n",
    "plot_confusion_matrix(get_confusion_matrix(y_pred_d2_gb_directional,\n",
    "                                           y_test_directional_d2))"
   ]
  },
  {
   "cell_type": "code",
   "execution_count": 52,
   "metadata": {},
   "outputs": [
    {
     "name": "stdout",
     "output_type": "stream",
     "text": [
      "The test accuracy for baseline model (gb, directional) is 0.990\n"
     ]
    }
   ],
   "source": [
    "print('The test accuracy for baseline model (gb, directional) is {:.3f}'.\n",
    "      format(gb_baseline_directional_d2.score(X_test_directional_d2,\n",
    "                                              y_test_directional_d2)))"
   ]
  },
  {
   "cell_type": "markdown",
   "metadata": {},
   "source": [
    "At this point, the baseline model with default setting from sklearn has already performed extremely well on the test set. It also produced a mean cv score of 96.2%. We will not choose the baseline model unless a more complex model can perform perfectly."
   ]
  },
  {
   "cell_type": "markdown",
   "metadata": {},
   "source": [
    "## Hyper-parameters Tuning"
   ]
  },
  {
   "cell_type": "markdown",
   "metadata": {},
   "source": [
    "#### Step 1: Finding the best initial number of estimators"
   ]
  },
  {
   "cell_type": "markdown",
   "metadata": {},
   "source": [
    "Default values:\n",
    "- learning_rate=0.1, \n",
    "- min_samples_split=500, \n",
    "- min_samples_leaf=50,\n",
    "- max_depth=8, \n",
    "- max_features='sqrt', \n",
    "- subsample=0.8, \n",
    "- random_state=13"
   ]
  },
  {
   "cell_type": "code",
   "execution_count": 53,
   "metadata": {},
   "outputs": [],
   "source": [
    "gb_d2_directional = GradientBoostingClassifier(learning_rate=0.1, min_samples_split=500, min_samples_leaf=50,\n",
    "                                    max_depth=8, max_features='sqrt', subsample=0.8, random_state=13)\n",
    "\n",
    "param_test1_gb_d2_directional = {'n_estimators':range(20,81,20)}"
   ]
  },
  {
   "cell_type": "code",
   "execution_count": 54,
   "metadata": {},
   "outputs": [],
   "source": [
    "grid_search = GridSearchCV(gb_d2_directional, param_grid=param_test1_gb_d2_directional, cv=3, n_jobs=-1)\n",
    "_ = grid_search.fit(X_train_directional_d2,\n",
    "                    y_train_directional_d2)"
   ]
  },
  {
   "cell_type": "code",
   "execution_count": 55,
   "metadata": {
    "scrolled": true
   },
   "outputs": [
    {
     "name": "stdout",
     "output_type": "stream",
     "text": [
      "Model with rank: 1\n",
      "Mean validation score: 0.9581, Standard Deviation: 0.0137\n",
      "Parameters: {'n_estimators': 60}\n",
      "\n",
      "Model with rank: 2\n",
      "Mean validation score: 0.9577, Standard Deviation: 0.0139\n",
      "Parameters: {'n_estimators': 80}\n",
      "\n",
      "Model with rank: 3\n",
      "Mean validation score: 0.9567, Standard Deviation: 0.0130\n",
      "Parameters: {'n_estimators': 40}\n",
      "\n"
     ]
    }
   ],
   "source": [
    "report(grid_search.grid_scores_, 3)"
   ]
  },
  {
   "cell_type": "markdown",
   "metadata": {},
   "source": [
    "The model ranking shows us 60 estimators is optimum for our setting. Thus, we will set n_estimators to 60 for now. We will re-tune n_estimators and learning_rate as a combination in the end."
   ]
  },
  {
   "cell_type": "code",
   "execution_count": 56,
   "metadata": {},
   "outputs": [],
   "source": [
    "gb_d2_directional = GradientBoostingClassifier(learning_rate=0.1, n_estimators=60, min_samples_leaf=50,\n",
    "                                   max_features='sqrt', subsample=0.8, random_state=13)\n",
    "\n",
    "param_test2_gb_d2_directional = {\n",
    "    \"max_depth\": range(5, 15, 3),\n",
    "    \"min_samples_split\": range(200, 601, 200)\n",
    "}"
   ]
  },
  {
   "cell_type": "code",
   "execution_count": 57,
   "metadata": {},
   "outputs": [],
   "source": [
    "grid_search = GridSearchCV(gb_d2_directional, param_grid=param_test2_gb_d2_directional, cv=3, n_jobs=-1)\n",
    "_ = grid_search.fit(X_train_directional_d2,\n",
    "                    y_train_directional_d2)"
   ]
  },
  {
   "cell_type": "code",
   "execution_count": 58,
   "metadata": {
    "scrolled": true
   },
   "outputs": [
    {
     "name": "stdout",
     "output_type": "stream",
     "text": [
      "Model with rank: 1\n",
      "Mean validation score: 0.9603, Standard Deviation: 0.0134\n",
      "Parameters: {'max_depth': 5, 'min_samples_split': 200}\n",
      "\n",
      "Model with rank: 2\n",
      "Mean validation score: 0.9603, Standard Deviation: 0.0136\n",
      "Parameters: {'max_depth': 11, 'min_samples_split': 400}\n",
      "\n",
      "Model with rank: 3\n",
      "Mean validation score: 0.9602, Standard Deviation: 0.0123\n",
      "Parameters: {'max_depth': 14, 'min_samples_split': 400}\n",
      "\n"
     ]
    }
   ],
   "source": [
    "report(grid_search.grid_scores_, 3)"
   ]
  },
  {
   "cell_type": "markdown",
   "metadata": {},
   "source": [
    "The results showed us that the max_depth and min_samples_split should be set to 5 and 200."
   ]
  },
  {
   "cell_type": "code",
   "execution_count": 60,
   "metadata": {},
   "outputs": [],
   "source": [
    "gb_d2_directional = GradientBoostingClassifier(learning_rate=0.1, n_estimators=60,\n",
    "                                            max_depth=5, max_features='sqrt',\n",
    "                                            min_samples_split=200, subsample=0.8, random_state=13)\n",
    "param_test3_gb_d2_directional = {\n",
    "    \"min_samples_leaf\": range(30,71,10)\n",
    "}"
   ]
  },
  {
   "cell_type": "code",
   "execution_count": 61,
   "metadata": {},
   "outputs": [],
   "source": [
    "grid_search = GridSearchCV(gb_d2_directional, param_grid=param_test3_gb_d2_directional, cv=3, n_jobs=-1)\n",
    "_ = grid_search.fit(X_train_directional_d2,\n",
    "                    y_train_directional_d2)"
   ]
  },
  {
   "cell_type": "code",
   "execution_count": 62,
   "metadata": {
    "scrolled": true
   },
   "outputs": [
    {
     "name": "stdout",
     "output_type": "stream",
     "text": [
      "Model with rank: 1\n",
      "Mean validation score: 0.9603, Standard Deviation: 0.0134\n",
      "Parameters: {'min_samples_leaf': 50}\n",
      "\n",
      "Model with rank: 2\n",
      "Mean validation score: 0.9599, Standard Deviation: 0.0120\n",
      "Parameters: {'min_samples_leaf': 30}\n",
      "\n",
      "Model with rank: 3\n",
      "Mean validation score: 0.9592, Standard Deviation: 0.0142\n",
      "Parameters: {'min_samples_leaf': 60}\n",
      "\n"
     ]
    }
   ],
   "source": [
    "report(grid_search.grid_scores_, 3)"
   ]
  },
  {
   "cell_type": "code",
   "execution_count": 63,
   "metadata": {},
   "outputs": [],
   "source": [
    "gb_d2_directional = GradientBoostingClassifier(learning_rate=0.1, n_estimators=60,\n",
    "                                            max_depth=5, min_samples_leaf=50,\n",
    "                                            min_samples_split=200, subsample=0.8, random_state=13)\n",
    "param_test4_gb_d2_directional = {\n",
    "    \"max_features\": range(6, 17, 2)\n",
    "}"
   ]
  },
  {
   "cell_type": "code",
   "execution_count": 64,
   "metadata": {},
   "outputs": [],
   "source": [
    "grid_search = GridSearchCV(gb_d2_directional, param_grid=param_test4_gb_d2_directional, cv=3, n_jobs=-1)\n",
    "_ = grid_search.fit(X_train_directional_d2,\n",
    "                    y_train_directional_d2)"
   ]
  },
  {
   "cell_type": "code",
   "execution_count": 65,
   "metadata": {},
   "outputs": [
    {
     "name": "stdout",
     "output_type": "stream",
     "text": [
      "Model with rank: 1\n",
      "Mean validation score: 0.9631, Standard Deviation: 0.0072\n",
      "Parameters: {'max_features': 16}\n",
      "\n",
      "Model with rank: 2\n",
      "Mean validation score: 0.9626, Standard Deviation: 0.0084\n",
      "Parameters: {'max_features': 14}\n",
      "\n",
      "Model with rank: 3\n",
      "Mean validation score: 0.9624, Standard Deviation: 0.0095\n",
      "Parameters: {'max_features': 10}\n",
      "\n"
     ]
    }
   ],
   "source": [
    "report(grid_search.grid_scores_, 3)"
   ]
  },
  {
   "cell_type": "code",
   "execution_count": 69,
   "metadata": {},
   "outputs": [],
   "source": [
    "gb_d2_directional = GradientBoostingClassifier(learning_rate=0.1, n_estimators=60,\n",
    "                                            max_depth=5, min_samples_leaf=50,\n",
    "                                            min_samples_split=200, random_state=13)\n",
    "param_test5_gb_d2_directional = {\n",
    "    \"max_features\": range(16, 23, 2),\n",
    "    \"subsample\": [0.6, 0.7, 0.8, 0.9]\n",
    "}"
   ]
  },
  {
   "cell_type": "code",
   "execution_count": 70,
   "metadata": {},
   "outputs": [],
   "source": [
    "grid_search = GridSearchCV(gb_d2_directional, param_grid=param_test5_gb_d2_directional, cv=3, n_jobs=-1)\n",
    "_ = grid_search.fit(X_train_directional_d2,\n",
    "                    y_train_directional_d2)"
   ]
  },
  {
   "cell_type": "code",
   "execution_count": 71,
   "metadata": {},
   "outputs": [
    {
     "name": "stdout",
     "output_type": "stream",
     "text": [
      "Model with rank: 1\n",
      "Mean validation score: 0.9633, Standard Deviation: 0.0074\n",
      "Parameters: {'max_features': 20, 'subsample': 0.7}\n",
      "\n",
      "Model with rank: 2\n",
      "Mean validation score: 0.9632, Standard Deviation: 0.0071\n",
      "Parameters: {'max_features': 18, 'subsample': 0.9}\n",
      "\n",
      "Model with rank: 3\n",
      "Mean validation score: 0.9631, Standard Deviation: 0.0072\n",
      "Parameters: {'max_features': 16, 'subsample': 0.8}\n",
      "\n"
     ]
    }
   ],
   "source": [
    "report(grid_search.grid_scores_, 3)"
   ]
  },
  {
   "cell_type": "code",
   "execution_count": 73,
   "metadata": {},
   "outputs": [],
   "source": [
    "gb_d2_directional_final = GradientBoostingClassifier(learning_rate=0.1, n_estimators=60,\n",
    "                                            max_depth=5, max_features=20,\n",
    "                                            min_samples_leaf=50, subsample=0.7,\n",
    "                                            min_samples_split=200, random_state=13)\n",
    "\n",
    "_ = gb_d2_directional_final.fit(X_train_directional_d2,\n",
    "                     y_train_directional_d2)"
   ]
  },
  {
   "cell_type": "code",
   "execution_count": 75,
   "metadata": {},
   "outputs": [
    {
     "data": {
      "image/png": "[encoded data removed]",
      "text/plain": [
       "<Figure size 432x288 with 2 Axes>"
      ]
     },
     "metadata": {},
     "output_type": "display_data"
    }
   ],
   "source": [
    "y_pred_d2_gb_directional = gb_d2_directional_final.predict(X_test_directional_d2)\n",
    "plot_confusion_matrix(get_confusion_matrix(y_pred_d2_gb_directional,\n",
    "                                           y_test_directional_d2))"
   ]
  },
  {
   "cell_type": "code",
   "execution_count": 77,
   "metadata": {},
   "outputs": [
    {
     "name": "stdout",
     "output_type": "stream",
     "text": [
      "The test accuracy for final model (gb, directional) is 0.989\n"
     ]
    }
   ],
   "source": [
    "print('The test accuracy for final model (gb, directional) is {:.3f}'.\n",
    "      format(gb_d2_directional_final.score(X_test_directional_d2,\n",
    "                                    y_test_directional_d2)))"
   ]
  },
  {
   "cell_type": "markdown",
   "metadata": {},
   "source": [
    "## Conclusion"
   ]
  },
  {
   "cell_type": "markdown",
   "metadata": {},
   "source": [
    "After a long tuning process, we are able to squeeze out some improvement on the meancv score, which is only 0.001 higher than the one produced by the baseline model. However, the baseline model is simplier than the final model. As a result, we decided to choose the baseline model over the final model."
   ]
  },
  {
   "cell_type": "markdown",
   "metadata": {},
   "source": [
    "# Summary"
   ]
  },
  {
   "cell_type": "markdown",
   "metadata": {},
   "source": [
    "Here are the models we picked for drone 2:\n",
    "- Wind Detection: <b>default</b> sklearn random forest and <b>default</b> gradient boosting.\n",
    "- Direction Detection: <b>default</b> randome forest and <b>default</b> gradient boosting."
   ]
  }
 ],
 "metadata": {
  "kernelspec": {
   "display_name": "Python 3",
   "language": "python",
   "name": "python3"
  },
  "language_info": {
   "codemirror_mode": {
    "name": "ipython",
    "version": 3
   },
   "file_extension": ".py",
   "mimetype": "text/x-python",
   "name": "python",
   "nbconvert_exporter": "python",
   "pygments_lexer": "ipython3",
   "version": "3.6.7"
  }
 },
 "nbformat": 4,
 "nbformat_minor": 2
}
